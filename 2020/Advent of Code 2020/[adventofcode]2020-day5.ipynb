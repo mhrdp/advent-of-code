{
 "cells": [
  {
   "cell_type": "markdown",
   "metadata": {},
   "source": [
    "<strong>First part problem:</strong>\n",
    "\n",
    "<b>--- Day 5: Binary Boarding ---</b><br />\n",
    "You board your plane only to discover a new problem: you dropped your boarding pass! You aren't sure which seat is yours, and all of the flight attendants are busy with the flood of people that suddenly made it through passport control.\n",
    "\n",
    "You write a quick program to use your phone's camera to scan all of the nearby boarding passes (your puzzle input); perhaps you can find your seat through process of elimination.\n",
    "\n",
    "Instead of <b>zones or groups</b>, this airline uses <b><span style='color:red'>binary space partitioning</span></b> to seat people. A seat might be specified like FBFBBFFRLR, where F means \"front\", B means \"back\", L means \"left\", and R means \"right\".\n",
    "\n",
    "The first 7 characters will either be F or B; these specify exactly one of the 128 rows on the plane (numbered 0 through 127). Each letter tells you which half of a region the given seat is in. Start with the whole list of rows; the first letter indicates whether the seat is in the front (0 through 63) or the back (64 through 127). The next letter indicates which half of that region the seat is in, and so on until you're left with exactly one row.\n",
    "\n",
    "For example, consider just the first seven characters of FBFBBFFRLR:\n",
    "\n",
    "Start by considering the whole range, rows 0 through 127.<br />\n",
    "F means to take the lower half, keeping rows 0 through 63.<br />\n",
    "B means to take the upper half, keeping rows 32 through 63.<br />\n",
    "F means to take the lower half, keeping rows 32 through 47.<br />\n",
    "B means to take the upper half, keeping rows 40 through 47.<br />\n",
    "B keeps rows 44 through 47.<br />\n",
    "F keeps rows 44 through 45.<br />\n",
    "The final F keeps the lower of the two, row 44.<br />\n",
    "The last three characters will be either L or R; these specify exactly one of the 8 columns of seats on the plane (numbered 0 through 7). The same process as above proceeds again, this time with only three steps. L means to keep the lower half, while R means to keep the upper half.\n",
    "\n",
    "For example, consider just the last 3 characters of FBFBBFFRLR:\n",
    "\n",
    "Start by considering the whole range, columns 0 through 7.<br />\n",
    "R means to take the upper half, keeping columns 4 through 7.<br />\n",
    "L means to take the lower half, keeping columns 4 through 5.<br />\n",
    "The final R keeps the upper of the two, column 5.<br />\n",
    "So, decoding FBFBBFFRLR reveals that it is the seat at row 44, column 5.\n",
    "\n",
    "Every seat also has a unique seat ID: multiply the row by 8, then add the column. In this example, the seat has ID 44 * 8 + 5 = 357.\n",
    "\n",
    "Here are some other boarding passes:\n",
    "\n",
    "BFFFBBFRRR: row 70, column 7, seat ID 567.<br />\n",
    "FFFBBBFRRR: row 14, column 7, seat ID 119.<br />\n",
    "BBFFBBFRLL: row 102, column 4, seat ID 820.<br />\n",
    "As a sanity check, look through your list of boarding passes. What is the highest seat ID on a boarding pass?"
   ]
  },
  {
   "cell_type": "code",
   "execution_count": 1,
   "metadata": {
    "scrolled": true
   },
   "outputs": [
    {
     "name": "stdout",
     "output_type": "stream",
     "text": [
      "Solution for day 5 first challange: 959\n",
      "Solution for day 5 second challange: 527\n"
     ]
    }
   ],
   "source": [
    "with open('day5-list.txt', 'r') as file:\n",
    "    content = file.read()\n",
    "    lines = content.split()\n",
    "\n",
    "#The hints from the challange states that they use 'binary space partitioning', instead of zones or group\n",
    "#That mean we need to convert the string into binary then into its decimal representation.\n",
    "def convert_to_binary(string):\n",
    "    translation_binary = string.maketrans('FB', '01')\n",
    "    return string.translate(translation_binary)\n",
    "binary_rows = [convert_to_binary(table[:7]) for table in lines]\n",
    "\n",
    "decimal_binary_rows = [int(binary, 2) for binary in binary_rows]\n",
    "\n",
    "#In binary numeric system, you only use 0 and 1.\n",
    "#The binary always multiplied by the power of 2, and multiplied by the binary number each represented\n",
    "#For example, the binary number of 8 is '1000', which stands for 1(2^3) + 0(2^2) + 0(2^1) + 0(2^0) = 8\n",
    "#print(decimal_binary)\n",
    "\n",
    "def convert_to_binary_2(string):\n",
    "    translation_binary_2 = string.maketrans('LR', '01')\n",
    "    return string.translate(translation_binary_2)\n",
    "binary_rows_2 = [convert_to_binary_2(table[-3:]) for table in lines]\n",
    "decimal_binary_column = [int(binary, 2) for binary in binary_rows_2]\n",
    "\n",
    "row_column = zip(decimal_binary_rows, decimal_binary_column)\n",
    "seat_id = [items[0]*8 + items[1] for items in row_column]\n",
    "\n",
    "max_id = max(seat_id)\n",
    "print('Solution for day 5 first challange: %d' % max_id)\n",
    "\n",
    "#Part 2\n",
    "sorted_list = sorted(seat_id)\n",
    "current_index = 1 #current_index = 1 because the first seat was not there\n",
    "last_index = len(seat_id) - 1\n",
    "my_seat = None\n",
    "\n",
    "#last_index - 1 because the last seat was not there\n",
    "while current_index < last_index - 1:\n",
    "    #Why '==2'?\n",
    "    #Let's assume your seat that is missing is number 3, so the list would be [.., 2, 4, ..]. If we applied below equation then,\n",
    "    #'sorted_list[current_index + 1]' would be 4, and 'sorted_list[current_index]' would be 2,\n",
    "    #subtracting both will resulting in the value of '2', and because your seat is the only one missing,\n",
    "    #you need to add '1' to get the value of '3', hence we have 'sorted_list[current_index] + 1' as returned value\n",
    "    if sorted_list[current_index + 1] - sorted_list[current_index] == 2:\n",
    "        my_seat = sorted_list[current_index] + 1\n",
    "        break\n",
    "    current_index += 1\n",
    "\n",
    "if my_seat:\n",
    "    print('Solution for day 5 second challange: %d' % my_seat)\n",
    "else:\n",
    "    print('Error, better check your codes!')"
   ]
  },
  {
   "cell_type": "markdown",
   "metadata": {},
   "source": [
    "<b>--- Part Two ---</b><br />\n",
    "Ding! The \"fasten seat belt\" signs have turned on. Time to find your seat.\n",
    "\n",
    "It's a completely full flight, so your seat should be the only <b>missing</b> boarding pass in your list. However, there's a catch: some of the seats at the very front and back of the plane don't exist on this aircraft, so they'll be missing from your list as well.\n",
    "\n",
    "Your seat wasn't at the very front or back, though; the seats with IDs +1 and -1 from yours will be in your list.\n",
    "\n",
    "What is the ID of your seat?"
   ]
  },
  {
   "cell_type": "code",
   "execution_count": 5,
   "metadata": {},
   "outputs": [
    {
     "name": "stdout",
     "output_type": "stream",
     "text": [
      "B\n"
     ]
    }
   ],
   "source": [
    "with open('day5-list.txt', 'r') as file:\n",
    "    content = file.read()\n",
    "    lines = content.split()\n",
    "\n",
    "def check_seat(seat):\n",
    "    \n",
    "    for char in seat:\n",
    "        array = 0\n",
    "        num = 0\n",
    "        while num < len(seat):\n",
    "            letter_1 = char[array][0]\n",
    "            letter_2 = char[array][1]\n",
    "            letter_3 = char[array][2]\n",
    "            letter_4 = char[array][3]\n",
    "            letter_5 = char[array][4]\n",
    "            letter_6 = char[array][5]\n",
    "            letter_7 = char[array][6]\n",
    "            array += 1\n",
    "            num += 1\n",
    "            \n",
    "    if letter_1 == 'F':\n",
    "        total_row = 127\n",
    "        range_max = 127 // 2\n",
    "        range_min = 0\n",
    "        return range_min, range_max"
   ]
  },
  {
   "cell_type": "code",
   "execution_count": 4,
   "metadata": {},
   "outputs": [
    {
     "name": "stdout",
     "output_type": "stream",
     "text": [
      "63\n"
     ]
    }
   ],
   "source": [
    "a = 127 // 2\n",
    "print(a)"
   ]
  }
 ],
 "metadata": {
  "kernelspec": {
   "display_name": "Python 3",
   "language": "python",
   "name": "python3"
  },
  "language_info": {
   "codemirror_mode": {
    "name": "ipython",
    "version": 3
   },
   "file_extension": ".py",
   "mimetype": "text/x-python",
   "name": "python",
   "nbconvert_exporter": "python",
   "pygments_lexer": "ipython3",
   "version": "3.8.5"
  }
 },
 "nbformat": 4,
 "nbformat_minor": 2
}

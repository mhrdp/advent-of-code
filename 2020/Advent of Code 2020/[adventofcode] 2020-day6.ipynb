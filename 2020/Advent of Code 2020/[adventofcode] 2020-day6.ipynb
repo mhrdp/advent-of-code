{
 "cells": [
  {
   "cell_type": "markdown",
   "metadata": {},
   "source": [
    "<b><span style='color:red'>This is a methods explanation</span></b><br />\n",
    "<b>What I understand about <code>for</code> loop at these exercise</b>\n",
    "<ul>\n",
    "    <li><code>for</code> loop basically iterates every item inside your variable once, be it <code>list</code>, <code>tuples</code>, <code>doctionary</code>, or even <code>string</code>.<li>\n",
    "    <li>For it to be shown completely especially if you have a nested list, you need to <code>append</code> or <code>extend</code> it into available <code>list</code>, so if you don't have any <code>list</code>, you need to make a empty <code>list</code> before initializing <code>for</code> loop</li>\n",
    "</ul>\n",
    "\n",
    "<b>Methods that were used for this challange</b><br />\n",
    "<ul>\n",
    "    <li><b>len</b>: to count the number of items inside a list</li>\n",
    "    <li><b>set().union()</b>:\n",
    "        <ul>\n",
    "            <li><code>set(<i>data</i>)</code>: a data structure that will have unique values when executed (meaning that no items have same value), and unordered</li>\n",
    "            <li><code>.union(<i>set</i>)</code>: a <code>set()</code> method to combine 2 sets into one, with unique value.</li>\n",
    "        </ul>\n",
    "    </li>\n",
    "    <li><b>set().intersection()</b>:\n",
    "        <ul>\n",
    "            <li><code>.intersection(<i>set</i>)</code>: also a <code>set()</code> method, the different would be <code>.intersection()</code> will pick an elements that two sets have in common.</li>\n",
    "        </ul>\n",
    "    </li>\n",
    "    <li><b>*args</b>: is an extra variable. Symbolize by <code>*</code> like the <code>.union(*...)</code> code example below, the <code>*</code> is to let the method in which this applied to, to take more arguments than what a given <code>method</code> or <code>function</code> are designed to take. Let's say for example, if your <code>method</code> can only take one argument, the <code>*</code> will let you give that <code>method</code> more than one argument. The arguments, though, need to be the actual arguments that your <code>method</code> or <code>function</code> can take.</li>\n",
    "</ul>"
   ]
  },
  {
   "cell_type": "code",
   "execution_count": 33,
   "metadata": {},
   "outputs": [
    {
     "name": "stdout",
     "output_type": "stream",
     "text": [
      "Answer for the part 1 is: 6885\n",
      "Answer for the part 2 is: 3550\n"
     ]
    }
   ],
   "source": [
    "with open('day6-list.txt', 'r') as file:\n",
    "    content = file.read()\n",
    "    lines = content.split('\\n\\n')\n",
    "    lines_replace = [item.replace('\\n', ' ') for item in lines]\n",
    "    lines_final = [item.split() for item in lines_replace]\n",
    "    \n",
    "def part_1_solution(item):\n",
    "    count = 0\n",
    "    for i in item:\n",
    "        if len(i) == 1:\n",
    "            count += len(i[0])\n",
    "        else:\n",
    "            #The * symbol inside union() method is a *args variable\n",
    "            #*args variable, symbolized by *, is used when you want to take more arguments\n",
    "            #than what your method or function designed to take,\n",
    "            #but the arguments still need to be related with what the given methods or functions willing to take\n",
    "            #In this case, union() is a method inside of set() method. It can take more than one non-set() arguments\n",
    "            #as long as you convert it into set() first.\n",
    "            #And * make it possible for the union() method to take more than one argument\n",
    "            union_of_answer = set(i[0]).union(*i[1:])\n",
    "            count += len(union_of_answer)\n",
    "    return count\n",
    "\n",
    "def part_2_solution(item):\n",
    "    count = 0\n",
    "    for i in item:\n",
    "        if len(i) == 1:\n",
    "            count += len(i[0])\n",
    "        else:\n",
    "            intersection_of_answer = set(i[0]).intersection(*i[1:])\n",
    "            count += len(intersection_of_answer)\n",
    "    return count\n",
    "\n",
    "print('Answer for the part 1 is: %d' % part_1_solution(lines_final))\n",
    "print('Answer for the part 2 is: %d' % part_2_solution(lines_final))"
   ]
  },
  {
   "cell_type": "code",
   "execution_count": 31,
   "metadata": {},
   "outputs": [
    {
     "name": "stdout",
     "output_type": "stream",
     "text": [
      "{'v', 'h', 'b', 'd', 'k', 'c', 'o', 'z', 'j', 'r', 'f', 's', 'p', 'w', 'l', 'n', 'm'}\n"
     ]
    }
   ],
   "source": [
    "with open('day6-list.txt', 'r') as file:\n",
    "    content = file.read()\n",
    "    lines = content.split('\\n\\n')\n",
    "    lines_a = [item.replace('\\n', ' ') for item in lines]\n",
    "    lines_b = [item.split() for item in lines_a]\n",
    "    \n",
    "def check(item):\n",
    "    count = 0\n",
    "    a = []\n",
    "    for i in item:\n",
    "        b = set(i[0]).union(*i[0:])\n",
    "        count += len(b)\n",
    "    return b\n",
    "print(check(lines_b))"
   ]
  },
  {
   "cell_type": "code",
   "execution_count": 7,
   "metadata": {},
   "outputs": [
    {
     "name": "stdout",
     "output_type": "stream",
     "text": [
      "[['l', 'l', 'vqb'], ['zrbnqykcsxjm', 'rszkqdmjbnx', 'ynkosrxjbzqm'], ['jiare', 'eria', 'iaer', 'arie', 'aiexqr'], ['kwqyzfglaurxotbnp', 'tdkfwoxylaprquzngb', 'mwecrqplzuvyxabntkoigf', 'xnwlrpkybtzgfuaoq', 'xyprbtnokgfuqalzw'], ['qmlpsyfnkdajctehv', 'slnjevqmukdpytac', 'eqlkpcnmajdtsvy', 'yvnpueslckadmtqij', 'rmpqbncadstlkjyevw'], ['rgvby', 'fbgdyirx', 'bpmgtnujrzyoq', 'barygw'], ['lrkjtqpvba', 'uhtikcojv', 'tvksj'], ['qktdhsojirpmvfxlay', 'dskmjpixvtzrhoylafq', 'jkyfmrdoqxatlsihpv', 'itmjvxqpskhdlyrfao'], ['lx', 'dp'], ['bd', 'jbd', 'db'], ['ifoqphmrtklbgxzuvn', 'nombutvpwscxzhgydjia'], ['kjhlxsagwpfneoymzrdci', 'akhdwerzsngycjiflmo', 'iydelzwnmrghqjfackos', 'kdojgcnrshiflyezawm', 'hfygrinedwzlmoqkscaj'], ['kqoudizxnjvhytg', 'hxqgjvdnyktiouz', 'dxkioqzjghvtuyn', 'gdhjntqzvyxkoui', 'ndtvzoukgiyhxqj'], ['pqf', 'psofzmq', 'qfp', 'qfp'], ['gshrbmcep', 'mhrgbesc', 'jrsqcegmfbhu'], ['djtsyheqnb', 'dybhsqntje', 'sedjbqhytn', 'tnyqbdehsj', 'eqyhbtnjsd'], ['wglsju', 'slgwju', 'gwlsju'], ['iesg', 'cylamwuq', 'tserf'], ['agfjzxuyhdoes', 'twib', 'mc', 'vmnblq'], ['rclazdfukihsex', 'cxhslupfzwekrad', 'ezhdiulgcfxksra'], ['blmq', 'lqbmfz'], ['hnsrkleqwbuto', 'sftvibklxer', 'trlsbivke', 'rztdkbjeyls'], ['lzbfn', 'lzbfu', 'zlfb'], ['vd', 'dv', 'dv', 'vd', 'dv'], ['ymqadsx', 'cixfmsdt', 'mdaxs', 'xdmsb', 'sydxom'], ['rzkqvmbt', 'rtmbqzkv', 'kbqtzmvr', 'vkzrqbmt'], ['hnigm', 'htnace'], ['lnpkucoeatb', 'oaubtmcvle', 'eaclboputnk'], ['ybpgdwjecxuqrlktfsnzvo', 'lpfsunvbwjyeoxrgtqzd', 'jtivmnhurdsxlgwqboapyzf'], ['eju', 'kqbtxpdlmy', 'rjive', 'ohiw'], ['ohrk', 'kormh', 'khor'], ['g', 'gk', 'g', 'g', 'g'], ['j', 'j', 'j', 'j'], ['sy', 'iq'], ['nbgiqwm', 'wgpbqunmk', 'znwmuqcbg', 'rtagbwdlqmnys'], ['fqycr', 'q', 'q', 'q', 'qg'], ['ltgjfo', 'fltjo', 'ftolj', 'ftjlo', 'tofjl'], ['atjzkuefxylpvhibmrwqgsndco', 'pwbcnyfrlxuzhiesmvotqkjdg'], ['gmabvcpnzwtulx', 'wtvlpfzbn'], ['p', 'y', 'y'], ['mlfqrgkivowyznaxh', 'rgcviwlyku', 'iywslrgkv', 'ysiuwglbkrv'], ['zqcpxvlhiwaejds', 'wdvsoxahqjilepz', 'ipeazqswtdxjvlhu'], ['fmhdkl', 'csetniqyg'], ['xbt', 'btx', 'txb', 'tbx', 'tbx'], ['zmih', 'yh', 'h', 'h', 'h'], ['ikrz', 'irz', 'rzil', 'rzi', 'ikzr'], ['vagptfyhrxiwq', 'dyeoabhz', 'ynakh', 'hbnya'], ['htoxfinqsrlbvedzuaycp', 'vibmoqrtgjkceafuwxnyh'], ['xiqtonpmf', 'xihnqmpota', 'opnlxmqit', 'itkxbmpnvfhqo', 'oqtpmzxcni'], ['euwxpgcjvsqn', 'vpcgewjnsxqu', 'vejxqcugsnwp'], ['euvlibcfryqopjkxamhd', 'phefiklvqdjrycauox'], ['fadowbtgpscrxzjknqemy', 'duljgwfbtimsvycqpeoanzx'], ['khfitu', 'uktihf', 'juktifh'], ['cjoazigukelnxvwtr', 'jwuovnktbqrilgxd', 'rglivwjktxnou', 'glqmokjtuiwvrsnx', 'muigjlwvtrqbxnko'], ['dycapz', 'drzcghj'], ['bkozaqvhfpsm', 'eatkoshbqgfwvz', 'fdskoybgvzqmalh', 'sqbxjvzcaouhrknfi'], ['wpbnly', 'cynf'], ['h', 'xg', 'mxs', 'ziw'], ['anfsvmbeldqojypix', 'adqslxtpbmoiyfnej', 'eqfydbljsapxionwm', 'yejxnpisglqofdbam'], ['alconzuehj', 'cftoedzyajxvum', 'iqjcokwazeus'], ['uqcdmkjlr', 'yiebsqkaw'], ['ednfuhzbpktwxlygsoarciq', 'yemwuahljgnqbpiftdoxs'], ['omrpnyfxk', 'bxnkmor', 'gonaxrwvcmk'], ['kmwujlh', 'jikhwm', 'mjipbhkw', 'yvmkrzngfhaw'], ['bjdhvqgycr', 'ftv'], ['yimkz', 'vwykibhqz'], ['casxmbqtdyngzklwrvpfho', 'rugqfhsmxaowbktpdzl', 'lmehfptszkdgbuqawxro', 'ohlagmsftxrjpikbdzwq'], ['sougxlcriyf', 'lgfxiuysoc', 'sogxiycful', 'gfiyculosx', 'oclxysigtuf'], ['h', 'm', 'm', 'y', 'm'], ['zlig', 'jgilzo', 'gzlind', 'gzli'], ['uhpzoyqbv', 'cxjlmfainto'], ['ofuwdxhpcsykbeniq', 'ydlpxuoahwenrjbicqz', 'xwiucybnsegohdqp', 'kxbdiecuonqhympw'], ['dw', 'wds', 'dw', 'dw'], ['ubowafrme', 'mueobwarf', 'urfmawbeo'], ['kvuzfahirbwt', 'wrkvmihtfbuazs', 'hifbkzwurtav'], ['dclfbjpsozuqmwhateny', 'jiwamuzqostcxnlpfybed', 'nmtypbjfqeowhzsucdal'], ['lwru', 'uolriwc', 'wrul'], ['srluafvzbgqhdpojm', 'apmdsoqruxlvhjgfzb', 'vabqfrldpjmshuogz', 'hzolmvqewdyprfkbjanugs', 'ljvbaqursompzfdgh'], ['kigxvwdc', 'xqckvgiw', 'xkwcghiv'], ['sdjr', 'cjqksizaout', 'fpnjwehgly'], ['chdp', 'cpovdh'], ['hjwpuvxeni', 'sncuwbfdgrixp'], ['l', 'o', 'o', 'o'], ['wujixdmekflzabgpthrq', 'thxbqivwdepjrgclzumkf'], ['ytegkjpmiodwzlqauxhvbcnf', 'fkzolbjnpdtcxiqvyueagwmh', 'uvdnmyepzojxhwtgifqabklc'], ['oyuzwldxmcngivjkastehq', 'qndktyxwashcuojlezimgv'], ['ath', 'tnha'], ['xukjawqero', 'owjxuakqr', 'wsurlcamqnj', 'urajqw'], ['ocag', 'agc', 'acrdgb', 'adgc', 'gtac'], ['clw', 'mwvc', 'cw', 'cw', 'clw'], ['zjopnqgim', 'pzqnorim', 'qznmjoi', 'qzmnocxid', 'qmznoi'], ['a', 'w', 'a', 'a', 'a'], ['s', 'kl', 'qbp', 'flw'], ['rxdaejscblzuyhkwot', 'xrbdjyfkoucswhzealtv', 'mclkeyuwhbtaxzjsdro', 'jaudslezowxbkchyrt'], ['wxdtiaczeslurpkghbq', 'mgwhytzpqriecafdlsxkb', 'ebdkwohaisgtqpxzvlr'], ['lvar', 'hvlp'], ['zndvuylcraxiesf', 'lzxuydfrvancis'], ['lmir', 'rmil', 'imlr', 'ghmzdiynrl'], ['oredthpc', 'hrdtpcoe', 'adntrhecpbo', 'hctodrpe'], ['gqydtozvhmnlap', 'mgexhqofyvkptdz', 'vqgzmyphsdoft'], ['rzioqdylhpucebjvsg', 'yhdscvpzuqij', 'dytcsikuzqjvphm', 'nquvdjcyhpizs', 'iydhsmqjvupcz'], ['jdwhskv', 'nguryldm'], ['ktxpgyqcwdahso', 'yacpxkwbhgsdt'], ['bucrxvimweh', 'ioxvcremuht', 'ivsmhcure', 'crhuviem', 'pviarhcuqmjek'], ['vafuo', 'afvo', 'oavf', 'vfao', 'favo'], ['rtqmilu', 'qlrti', 'yqlrktoi', 'riqwtl'], ['e', 's', 'e'], ['sc', 'cvaer'], ['gm', 'gm'], ['ukcnlma', 'lnucraykwe', 'uplghjqsi'], ['zyenlhtvimd', 'latvnhzejmdi', 'uvielnmtdhoz', 'mbnsgextzflvdhir', 'iwhvlmzdeotn'], ['o', 'o'], ['qmzxwdycagpse', 'idupkycemxlszwvagt', 'anrxwsqgzydemcp', 'xspcemwgzrday'], ['kcqrexl', 'jqpkuftv'], ['wdtyclofbsmq', 'odqsgmclbwyk', 'ymblqgwodscf', 'locdbewqmy'], ['takmzgrjhwlnfody', 'ndgvyfzhwljokmtar', 'kwgorhjmnyaitlzfd', 'ngjemzlhwtkdafoyr', 'ajyrfwtngzlkohdmv'], ['tkerlqobh', 'hetkjvldfr'], ['hvdumj', 'vbdmhu', 'dyvumh', 'vdbumhf', 'vuhkmd'], ['pibvezrthfq', 'qfzriphbovte', 'fehzvtpqirb', 'epqtvzfrbihj', 'vtfbrephizq'], ['ocvyesphzqdk', 'ecqydzhovpsk', 'cqdysokvzehp', 'evzhkdpcyqso', 'hpovdezsjcykq'], ['cbgizpter', 'otupjlgskhfcvbzm', 'ncybgtpzre', 'gytcpbz'], ['v', 'od', 'ju', 'vb', 'c'], ['pnu', 'rkmjctxq'], ['uvzrkjh', 'vrhz', 'rvzth'], ['xjmnyg', 'jgpxyn', 'gnxyj', 'gjubxynf'], ['vocbxedqrts', 'ctbosxqdrev', 'dxtwservfoybcq', 'dcrvosxqbet', 'bcvrtdoseqx'], ['wdxhygjb', 'dxgf', 'fcgdrx'], ['tkd', 'kdt', 'kdt', 'tkd', 'kdt'], ['a', 'z', 'a', 'a'], ['rsiceztjkhuoldyfmbgnv', 'vnergbzjiuskcdylpqtf'], ['kqermsohxbfic', 'ikynxahcbeqvp', 'ixqctohkdbe', 'chgzibuxftwkoeqj', 'kihxqclebu'], ['fxiutngyhomvb', 'pivrfygunomxhc', 'jvhsflgyndmzk', 'efcrgmyhvnw'], ['dyvk', 'mofvqd', 'fnuld', 'jdgwtca'], ['ptrmuyieowzhsnxjv', 'vertoupsxiwyzhjmn', 'mwsntjphyaixoezrvu'], ['irgqnkbyzlso', 'cfhesqopgytvib', 'quoeyimbsg', 'gsybiojqv'], ['byixwcvrtok', 'ciwboytxkvr', 'xrioybktcvw', 'vbcoyihtkrwx', 'ywxbkivrtoc'], ['ieyhkfxnqtrzdbswmu', 'nfidhkzsbtwmrqlgvuex'], ['kgdbuwpenqja', 'skwenqbaigdcjp', 'ekbwcphtxagnqjvd', 'pakqjbvwldieghnt', 'qwkmapnobejydzg'], ['ukhctxvd', 'duhxkcvt', 'dukctxhv', 'tkudchvx'], ['z', 'z', 'z', 'z'], ['om', 'moy', 'ymof', 'cjmwos', 'otm'], ['eidtqpfasx', 'iylpekdurnabfsqt', 'opfiqedast', 'idfspmaeqt', 'tsvqdafeipw'], ['kvc', 'zpkvfc', 'gcmed'], ['nxztyucwmphvlkbaeqgfj', 'qyjzxnmfvcsarekhptudw', 'phanqjwgklyfmtevuiozbxc'], ['esxd', 'buhmkvpx', 'azxivk'], ['jzhvcsdkmqearl', 'zrvhacklwqsmdej'], ['csujlf', 'ofcjhsl', 'scfolj'], ['hxdagfebunik', 'dnkegfaxhib', 'ilgbnhkafxed', 'szhniegdxbtwafyk', 'axebfgdunikh'], ['p', 'u'], ['vebisgd', 'idtsv', 'vzsqrdt', 'cjdamsv'], ['enlx', 'exl', 'leyxo', 'xel', 'xle'], ['qngjlczurisfevw', 'lngwzifscjrve', 'genrvwcilfszj', 'cifvsznwlgerj'], ['vmaico', 'mvnoci', 'oveimc', 'mcoiv', 'vicmdfo'], ['guploe', 'ebigaop', 'gopjshqvwncrf', 'lipogtza', 'oigpd'], ['oyun', 'k'], ['c', 'c', 'c', 'xcpe', 'ct'], ['nktcjaelb', 'waejc'], ['goudzsimrypkhlfw', 'uocagwzdhlebkqfrypijvm'], ['gjlfrv', 'ang', 'ajv', 'swdcqbzeoy'], ['lpmjhdontq', 'dpjqhltnm', 'tagqjdmlrxhpc', 'dtsjlhmqp'], ['jakofv', 'voafikjg', 'akfjvo'], ['dzluxpmwhj', 'wptdhxzmuj', 'rzjwdfmhuoxp', 'tuwsedjmhxzp'], ['nzxq', 'qzxn', 'znxlq'], ['i', 'ix', 'iz', 'i', 'i'], ['cbtgeozadhy', 'tbjrwsmcxhapvizu', 'aznhtyfkclb'], ['uyndszr', 'aduyrn'], ['oekrnwqh', 'ohqrnekw', 'ronwekh', 'knerohw', 'zewcnrkhso'], ['cor', 'ic', 'civ', 'wg'], ['bpagfdcquie', 'cudwbiaezfqrvp', 'mcqhxejuotidfpab', 'ardgeipqbcfu'], ['y', 'zy', 'yxfu'], ['l', 'l', 'l', 'l'], ['rqlc', 'lqa', 'xsvqiht'], ['yvfgc', 'fgyvc', 'cfvgy', 'cvfgdy'], ['ancyrwj', 'qlwhayct', 'cyfkgaei', 'sbzuvyacp', 'dhgctmay'], ['zlorny', 'ynzlr', 'yzrln', 'lynzr'], ['pnqezidwa', 'zawincdpeq', 'zdeanqipw', 'iqavwujednztp', 'ewcnqdzpai'], ['feauzspovcighxdrkbn', 'ynpocbgfivauherdkxzs', 'icnxasopufvhgbzdrejk', 'xzfadiuntrocbphgsvke'], ['mnshwpgqoyk', 'rzubjldcv'], ['rmclnfxaypojbgi', 'fvtzoqmslhd'], ['rbyhfiwgcnvdpzl', 'nwdpcyhfivbltrzg', 'grvfnbihcpdwyzlq', 'dwzprhbfygiljcvnx'], ['pf', 'fs', 'faoq', 'iahmft', 'fc'], ['k', 'h', 'oela'], ['gkvmsnjwpylqhfu', 'gupsqnjdfwkhzimbe', 'jbmpqxkhdnugfwis'], ['cjyd', 'ipcglz'], ['uwzhbxjgirvay', 'gvxayhbuzjirw', 'guaibjxzyrhwv', 'izwjyqabgxurhv', 'vjwbyugxriazh'], ['beqrgvsklhpnft', 'fvlrbpnosqgthek', 'tlqngbkhprsfev', 'vrnsqefbgthlkp', 'gfvlntbeqkhspr'], ['qdpbwtuimea', 'wqdmfauebitp', 'umiqpdweaxbt', 'qmuiadewpbt'], ['vlg', 'mv', 'ov'], ['hxisynu', 'quxmnsv'], ['cvjsolxahmp', 'vauewhkmfqtcon'], ['glw', 'wlg', 'wlg'], ['ev', 'e', 'e'], ['lgn', 'hokdui', 'ngmjl'], ['xaglfibwes', 'wagfbse', 'ebygfswa'], ['yvf', 'yv', 'vy', 'yv', 'vy'], ['qytkrlzmpxunevs', 'xugrplnqyevkz', 'eryvnkpzxluq', 'pyercjhluxvbznkqd'], ['etjskmdcfqapihlgboznwrv', 'iglmhkpzdfarbevcjswotnq'], ['nmasdwzhqekxtbplyg', 'twzhuxdbqpemgsnkly', 'pjdrbftlcmksgezyhwoxnqi', 'hxdywpqltemskgbnz', 'zyelbkdgmpqxhntsw'], ['iolsczkxdj', 'kayjirogsdczhlx', 'jskodzcilx', 'xijkoclzsdu', 'zsoicjdxkl'], ['fhab', 'fbh'], ['droxshctmqj', 'mrdotcjxqsh', 'dmjrscthqox', 'mxhtqcorjds'], ['bkdlu', 'ltkdu', 'kfldunb'], ['mwx', 'm', 'm', 'm', 'ehmogj'], ['jnluphwzcagbtdvxyfmokes', 'fszeaxhwjlpbgruincmkdt'], ['oevfibslcty', 'bfkcysovltei'], ['amizqdnjel', 'dztjewaminlq'], ['tmqnbhylesa', 'jynhcbwatd', 'nbhtyagml'], ['ykpcls', 'wucihnfltsz', 'yscqel', 'plmcxsqa'], ['phszciwokqefby', 'nflajgvxmd'], ['lbto', 'oblt', 'bgitdol'], ['qg', 'qg', 'qg', 'qg', 'qg'], ['pxemvrhay', 'msihl', 'schgwm', 'lshmd'], ['prfuxenytvmch', 'pxtfdcreumkhov'], ['hlkeujat', 'ktuhmjge', 'yuehjctir', 'sqtnjubpeovwdf', 'juteg'], ['yhsxojpgwcreltmukbn', 'wibuxmcpjodflsqthrkgen', 'oxtjrbmkuwesgplhcn'], ['ipqxwad', 'koqxlpiawn', 'qiuawpx'], ['ehfzmuvpwodg', 'uzopegfmdvhw', 'umpehfwvgdoz', 'paolmugedwfzhv'], ['lksrtuxg', 'vxslrgu'], ['iczb', 'bzajiwf'], ['btpuxjmk', 'gpktwjyumbx', 'tzkpmjbvux', 'mtkjxbup', 'pjukxmtvb'], ['ldjixbnhcfzq', 'chjolnbixqdzf', 'fjbzqldhgixcn'], ['ufnedcbailqjrxo', 'gxztymcdqau'], ['wayzopqck', 'ay', 'bvjagsfe', 'acut', 'ran'], ['xizwldtpryecmfjkunsq', 'zfdcqkmixurlwyntejps', 'mciktdfsquwpnjzleryx', 'sdfmryetzjukncpxlqiw', 'ncyjzleqmsfkurpwdxti'], ['ulgfexwhmio', 'wmixbcduhlge', 'imgxewuzlh'], ['ry', 'ty'], ['dzvlbgntwqh', 'gtzvowb', 'biyvwtgu'], ['rdoxknayewstb', 'xyltfasokndrwe', 'ywkertxdasno'], ['sgawqy', 'dpkqh'], ['gawnmbcr', 'nvlf', 'nl', 'zn', 'on'], ['ivxgnkrsjocyb', 'sihgmajkvqc', 'djqcsgivke'], ['qjryxnlcmaehw', 'yjqxhoencw'], ['jpvmal', 'vlpmeaj', 'mqpyjval'], ['mid', 'imd', 'imd', 'dmi', 'mdi'], ['gyjsq', 'kgyj', 'gjys'], ['cahsgkilm', 'vuyqxzontjse'], ['lmv', 'vk', 'fhv', 'v', 'mv'], ['hzgksvojfpixt', 'ygtlksizxofjvaph', 'jzopvxghkftis', 'jvozxikgshtfp'], ['ualhcf', 'flacuh', 'lhcfua', 'lufach', 'chlufa'], ['zqmfrblc', 'necqrzhb', 'xzcqwhbr', 'cdzajqrbn', 'nrqhcubz'], ['uatyvsmqelkjnx', 'lgajiucmxqnv', 'fimxvjqlaun'], ['tbscwkrfiopjdvmeya', 'tokivcfjprmsbyead', 'baihmdrofjpckeystv', 'jespaitkrmycovfbhwd', 'ptkmyscjxoviebdrafqlz'], ['z', 'z'], ['syqnbfemhcgptxld', 'dspclhemgqyxnofbwut', 'pymcetsxlqnhdbgf', 'chbdtlpqfxgsnmey', 'fbcthlymxsdgpneq'], ['htbudazrvmijp', 'glefkcwvszqdy'], ['gyicpdqujl', 'mwhrkadoui'], ['kagqxtynfiuzjcowlrp', 'tyirfcjouwxlkqagezn', 'oaxuztryfjlgiwcnkq', 'axvzlcinwtjrygkqfuo', 'rzuxlnaftqikgcoywj'], ['j', 'j', 'j', 'gj', 'j'], ['mwpaqcj', 'ujmcw'], ['gdxwshomieatuvrlzqfy', 'gznmefhquvyliswaoxrdt', 'lgjtxfwuhaezrqsvimdoy', 'losqxhvgwyuzfdteamri'], ['jtiucpbxklry', 'xrtikcpubly', 'xrukiptlycb', 'pilyructxbk'], ['jbynipceukvodr', 'idarzvnbuxeqcs', 'rqvcdfblenuwi'], ['imsau', 'scevroju', 'lpfn'], ['xi', 'xi', 'ix', 'ix', 'ix'], ['ugqszj', 'gszujq', 'zujghqs', 'pzsvjubtgq', 'zsgujq'], ['dvaleunoricpyzbthgwf', 'pdcgfvwbuoyteiznalr'], ['hdruxwqonb', 'bsmg', 'vmgyfbjsl'], ['pfbqrxtuiwc', 'dgjloszvcfmpinh'], ['dztvfmksg', 'rmtzveoacjlbup'], ['jevxwcgn', 'gxbvn'], ['e', 'e', 'e', 'e'], ['anjwpmvkecy', 'vycepwjna', 'yeawnfovjpzc', 'vmwycjnkaesp', 'pawevcyjn'], ['tmuvirx', 'txvurmi', 'txurmiv', 'ivutxmr'], ['qkbgft', 'xsnqbfvthp', 'fktqbe'], ['bdxlj', 'blxj', 'gdljxb', 'xreblj'], ['j', 'j', 'j', 'jmte', 'oj'], ['syalnzm', 'svnzymrx'], ['kgidsrujxqpfh', 'dbufspjgqlxri', 'dfqjipxursg', 'arxudfgqjisp'], ['eaqipotuwm', 'pwvuixam', 'asiycbkwm', 'omfidaw'], ['glhiaystbxqzovnjudpfc', 'ryohusjebxqcalnkw'], ['obqypeznsxrvlg', 'aqrgvxeconszbm'], ['sfumtgjcbypxkilvnzo', 'tjyovzfpghscikluxnb'], ['qisxrmcoptlwvny', 'pngzsbekcqyuxlv'], ['nrotkewibsfuzv', 'ijqvpknbfmrsozw'], ['ojhgluaswd', 'wxouhbadmtlvg'], ['fx', 'fx', 'fnxv', 'xrfcp'], ['cwrsldngxyazotvpkemhj', 'dtfyvzphrejoamnwcslk', 'mjkqaynolvibpwthzscerd', 'ecvjolpaktwzhdnrmysx'], ['nwh', 'hdgwn', 'nhw', 'nhw', 'hwn'], ['mxrtybangpf', 'mafjyx'], ['kxfqeycr', 'kfqxyescr'], ['q', 'qw', 'q', 'q'], ['anz', 'zno'], ['icg', 'gci'], ['kyalvdenitpuqojg', 'tpgdlokaysnerquv', 'udxtvyelpbgmkon', 'odkuvnegplawyjt', 'zdujvykgenpolft'], ['j', 'j', 'j'], ['w', 'lt', 'ya', 'pxkrqhegs'], ['pfsijvndouxhrmcy', 'wpfarvdysxmjuoihcn', 'xjdpvirnogmcfeskhyu', 'ctrsphqfjnoyulxvdmi', 'pxsyivdncjomhrfu'], ['wqua', 'qjk'], ['ejgomht', 'jtmhog', 'pkyhmjoqbrgt'], ['bshu', 'bhus', 'hbsu'], ['ethvwzirdxf', 'fwydzht'], ['yqp', 'pqy', 'ypq'], ['xprmghstdo', 'smxgtdhojpr', 'txdrosphmgeu', 'rxogmtdsph'], ['lhyjqatgcmei', 'ytjgiqlaehcm', 'ligehamtcjqy', 'cytgjqlhmiae', 'gqemjclihtay'], ['zhc', 'hz'], ['ztvmbiqcxaglj', 'lnjbtqgacmxvzi', 'gxtcamjqzilvb', 'qcitghvsazxmlbj', 'txajmzliqvbcg'], ['ungh', 'ungh', 'guneh', 'unhgy'], ['i', 'qi', 'b', 'i', 'km'], ['xgpachlnqzybftok', 'hykafctbpegqxnz', 'nbxkthagmpzcfqy', 'ynpgabkzfthcqx', 'fyqcxkgnzbhepat'], ['vw', 'wv', 'ydvw', 'wrv', 'kwtv'], ['xivec', 'kx', 'soutalyg', 'cnq'], ['wstvcobk', 'twvxsob', 'bsovwt', 'tawvsob'], ['uleznpysdt', 'ldzuenty', 'nzytudlekfw'], ['wbvlykoramdfucnis', 'uoyxcegmnvkqpztsl', 'hejckuvlnposmy'], ['wapmfezv', 'rqbajoxtpsduc'], ['izxugtrlbp', 'ntulxwjkdzgpbe', 'ltxugpzb', 'lpztxubg'], ['zjygwasfdr', 'xkcuobiptln'], ['hmrjbya', 'walvzjeyr', 'raqwyk', 'drfsaguxtcn'], ['gxukrfbyhqtcil', 'mvedzbonwac'], ['atj', 'zb', 'zbdi'], ['vmhiqpjoldxkb', 'pdmxslbkhgvocj', 'ldpvbjfkaomxh', 'jlmahxonpkdbv'], ['qyxilpnzfoesjrb', 'xsinpjyqrofeblz'], ['edhvbastilqxzyc', 'adeyvtxzbqhlisc', 'zeiblpxhdayqvcwst'], ['rltmioevjasfuh', 'iwdlcyzskuxbfovnjpqtgm'], ['qjthxnril', 'bwomksaugvypectzd'], ['zvrcqil', 'qmhlcviwjd', 'pxoskcqnibfe', 'rqciyvla', 'cgqit'], ['hkcdbeiwouzmqsyfrp', 'zpbdjcnxaikmhwyqesrfuo'], ['byomjhvg', 'yhqvgodm', 'nmuhgovy', 'ymjrhvoig', 'hoexyvgkmfsplt'], ['uwtpldj', 'juqldfw'], ['uilpkaehvs', 'ohpslvamjun', 'xhzplstqvd', 'hivwslp', 'pslhknvi'], ['kuzbrcgfdonx', 'ukgefnro', 'jglmqripyhvwukastnf'], ['p', 'p', 's', 'v', 's'], ['mgihpkoy'], ['xcvbwqtkiluepyma', 'plieaxybuwcmk', 'axoyufvwkclbpqe', 'wkmepcuytxbagl', 'cwpxberhlzynaku'], ['lpim', 'cmdui', 'riymb', 'hszmnikwa', 'irgm'], ['dcnkyx', 'de', 'fhdtguwas', 'lxpdz', 'jcdr'], ['hrxwdvytjslnumbcf', 'fzxnchdrlmuvkbwytjp', 'bxtvhdjwmlerunyicf', 'mnlxtwfdrvbhjycu', 'brcyjhudnlxvfmwt'], ['qkcsflyamebnvujdwgi', 'eskqclhinajumvgfwb', 'mlefvijuaqgnspbkwhc', 'ujaevnbsmiklgfcwq'], ['cebp', 'ejpb', 'bep', 'befp', 'bep'], ['tnlepvrgkafyxmoj', 'kgxwvnafozrmtblej'], ['lzmawhfkxcstyurgjv', 'krscvtxbwmluyjfzgh', 'diysureohkcgpxqfmzlvjtw', 'trhfksyujvxgzwcmlb', 'njbxrlwtzgmykvfscuh'], ['wgjehbzipr', 'ewhbprjizdg', 'rjhwbzepgi', 'wjhgbieprz'], ['ovkitxlrbducgfayjeqsn', 'deicugyftkrbxjslnvqo', 'tbcqjilgdskxyurnoevf'], ['spnjbdyw', 'owtukfvq', 'gvawq', 'qw'], ['aqxftorluywpgz', 'ayoqurwtgfpzl', 'yfozlgarqpuwbt', 'tarygpqlfwozu'], ['ancubl', 'rgjdwm'], ['zukxab', 'avfkubo'], ['xculqeapiowmgsyhfjdvbzktr', 'zdilocpamtrjufbvkywensq'], ['z', 'z', 'z', 'z', 'z'], ['mzsf', 'zfsm', 'gszfm', 'sfmz', 'fsmz'], ['fpcsid', 'uw', 'digfc'], ['euosbtkrlacmjndg', 'dakjexuomgtbnls', 'lngtabemdkojus', 'bomdlntjuasgkfpze'], ['efjlqdx', 'qxljde', 'jleqdx', 'lqejdox', 'ledojqx'], ['oipctfkqsdevzbmr', 'ekcpubrmtwfzivd'], ['zuasc', 'zucabg', 'czaue', 'aunrezh', 'lamuojz'], ['pghownmel', 'hnglmpo', 'npmghl', 'xhulmdpginzcb', 'rnmghloayp'], ['hpbrfosmxt', 'tmxshropb', 'ymtphrasbxc'], ['r', 'r', 'r', 'r', 'r'], ['aogbp', 'gpboa', 'gobap', 'agbop'], ['uofshnlaxrk', 'fnkulaxos'], ['vpgmnr', 'lcrpx', 'pr', 'topkr'], ['vtukfgreabdoyzlcqhxniwpmj', 'rfjyiwvgzblhaopcemkdxqtnu'], ['kbscmjifwghzrpvoety', 'kyrocpbfsvwiemjtzhg', 'dekmcgrhsftzbwiopjvy'], ['ghrkewpa', 'lkgrhd', 'gvqkyjfboxtzrn'], ['frlascidvxgbphmte', 'erdnfcmtkvasixhqlbgp', 'lxtobgpresivahdcjmwf', 'pylegibrthcfxsdvam'], ['enwkzamjhrfyxpibvc', 'zpemcdqihrtwnjabyvxf', 'vmbajrxghzypiencwf', 'bnzmhpjfwarvicxeky'], ['arutlhc', 'hwcartl', 'hrtcla', 'thlrca'], ['vahlzmjx', 'ursqd', 'rd', 'gdks'], ['rsw', 'zgcwy'], ['pfuwmnieqzxbvt', 'wmfciarh', 'fwrikmojg', 'fwjigym'], ['jza', 'jezs', 'zj', 'jzu', 'jzl'], ['jdebxpmyhniatcwgofslzkq', 'tilnpsockmywzxbfgjaqhde', 'qtmpkcgxweyofabnldisjzh'], ['onflguvzq', 'gofbsntjvlzqu', 'luezqvonfg', 'uqgnoezlfv'], ['hqecakpoyzjvlrt', 'bcwedyrgavtzoqlp'], ['nacuemvxlgbqdtoy', 'gtedxornqlkcbamv'], ['jpsqtzvcnrwegomxl', 'nwhaolqtue', 'qlweonbt'], ['mfq', 'qfm', 'mfq', 'mqf', 'fqm'], ['jw', 'wj', 'zyw', 'wvjd', 'uqrhwomp'], ['prugctiqnvxasfkwzmod', 'xoprswntkicazdfgmqv'], ['tflokewayq', 'kqtwylafoe', 'qlyewakfto', 'ofqewlktsya', 'eotywmlajkbqf'], ['ydbupxkrfwmgvntcq', 'lvrezogskjhi'], ['p', 'p', 'p', 'p', 'j'], ['ubegtdolxm', 'eotugbxdml', 'xmuegtblod', 'eodyxbtmulg', 'gobetxlmud'], ['bzymfcp', 'mbfczyp', 'lybumvcfp', 'bfypcm'], ['wifcs', 'cwifs', 'whsfci', 'scwif'], ['ytaqgbuxekcn', 'yntxecakubgq', 'cuyqxaketngb', 'kbanyctemuxgq'], ['uwzjmxyoginkv', 'vmxoziykujngr'], ['qltvfibmczu', 'cfrvubtlzjm', 'uvqmlczdyfb', 'ulkemvzxscbf', 'ulmafzcvrb'], ['twgonhvabrzmlp', 'wtpokaimenbzrlh', 'zidopyhnmgtalwrb', 'bmftoawpjrnzhlg', 'twuqxhsmrlznabop'], ['gvliahcnqrz', 'vczhqinrgl', 'nlqcrzgdbvi'], ['pg', 'pg', 'pg', 'pg', 'pg'], ['gtjl', 'yxgojtdb'], ['q', 'e', 'lbz', 'e'], ['scykfjohuxrtqplda', 'yoaskjdxrbqcwgemtluzn'], ['ksmwtqvfcupaihb', 'wpbziausvrtfkmqc', 'bpwckxuavmqhstfil', 'mkdnciebuvaqstpfw'], ['hxaj', 'uwodahkjib', 'ahfj'], ['d', 'd', 'd', 'd'], ['xsgdkcm', 'wrxkgs'], ['y', 'v', 'y'], ['wnjcvldpmeobzqsghyui', 'iwbgtjqlmdnpscoyzuhve', 'qlixyghcsdwnevmupzbjo', 'wlbidvpmugjchzqenysxo'], ['xjbegyifq', 'yjigxfesbq', 'egxfjbiyq', 'ifbjgxeqyl', 'ibgxjfqyae'], ['ectlmrwdkq', 'amtzwjqrs', 'gtwvmfqriup', 'qrtwmye'], ['yzdwtvrgmlkhcj', 'drmvhtzglyj', 'ytghlvmrdjz', 'ygzldvutrmjh', 'hjzdgmyrvlt'], ['enjiwfobhyamvtqsxkzdp', 'okxcwdmhjpatsgyznbviqfe', 'adbwfmvpkizqhsxjyonet'], ['tbrcmlaqdfiknpeoysvjhugzxw', 'suhngfcrpdlivowxykbzmtjeqa'], ['hxw', 'hw', 'hw', 'hw'], ['tv', 'vt', 'tzv', 'tv'], ['lzboqvygtijep', 'xpzlvteoiqybgj'], ['uc', 'uc', 'cu'], ['j', 'jdthy', 'joi', 'j', 'ojl'], ['ujdvbprn', 'dpbuj', 'dupbj', 'dpubj'], ['yxmo', 'mywzhr'], ['qgmswxfyrzobdpeau', 'aebwsopxygdqzmu', 'bhsayzmgdewpuqxo'], ['yfid', 'fi', 'ifek', 'fi', 'if'], ['xswq', 'xsq', 'zsqx', 'qxmas'], ['hrycaptlznwkxm', 'ywcbxvzlonek', 'jycanzrfwpkhxql'], ['tizjesgqxbwhv', 'sytriwhbpej', 'wbtlyesjphi', 'erjhistbw', 'itjbesnhw'], ['piatockz', 'prasukzocxt', 'awoxscbktepz', 'mngjohtyckapqlzfv', 'epatodkcizx'], ['vudfkrbensgqmjiaw', 'bqiukrwmvagdsjnef', 'eawimnqdjksufvgrb', 'kgefwdsrmvanbjqiu', 'fjigvekuqawmdbnrs'], ['cwybkoaqv', 'qkvcw', 'cpkjnqemvw', 'wckvoq'], ['mrzeigcsjylowufk', 'vdofwecbijzqxlmhs'], ['wmhugq', 'mqhwug', 'wgumhq'], ['nlzcwaivfxdbhtm', 'emrhbfdzavqcoyxnwi', 'daivwfchumbntzx'], ['zwvlharsgbdejfcunq', 'jqardlfhwbev', 'rvdqwlafebjh', 'bplwdeqrhfjav'], ['n', 'n', 'n', 'n', 'n'], ['u', 'xp', 'hcso', 'tny', 'kigy'], ['rcsgpo', 'gaqlvop', 'pogeh', 'joglp', 'fgohqp'], ['nyshpmztukcrda', 'pwmjgvsnacxloifte', 'mabsctnqp'], ['spw', 'pws', 'wps'], ['ejhifnypvgrubwqxlsc', 'iqxegncjzpvrywhsf', 'fncpgwhrqiysvexj'], ['sci', 'sci', 'bjcqsi', 'icns', 'sirch'], ['ogcxzntdiesplqk', 'oqlemstdickxnzpg', 'xicsngtmdzqkeol', 'lzkxecdimsngqot', 'suledfravcqtzkjiwnyogx'], ['ufz', 'zfu', 'uzf', 'zuf', 'zuf'], ['itcp', 'icpt', 'pcti'], ['myiwelaxscp', 'ozgcenqyilah', 'emcluidbay', 'idyaxcel', 'ycmwarkpeldi'], ['dbuz', 'szubd', 'bzdu', 'zdub', 'ubdz'], ['ymvfcjhnelxrtzpia', 'mojzaycxenfirpvhl', 'cmranhjwzvteiyplxf'], ['fnequhkbdm', 'yctilgraj'], ['gitlr', 'gtliwr'], ['k', 'z', 'l', 'k', 'l'], ['deupbzxkh', 'fbpuq'], ['xawv', 'vf', 'rnvf'], ['qktnbfyo', 'qobytfnk', 'qyonbtfk', 'nvftboqyk', 'tbfynokq'], ['efjncsqup', 'vhj', 'jorm'], ['xsdebk', 'sedbxk'], ['lnqfdtubv', 'snkyeq'], ['lygtxbfsnrcjkei', 'yetxgljcnfkis', 'epxniygwtjcslk', 'entybikxslcgj'], ['jzcbdk', 'kdz'], ['xiqsvkoulp', 'jotupvfbqkexwil', 'likxoqupv'], ['kqptgbhfljyuicnmvedaoxs', 'fshqbojcdngyikvxeltpa'], ['zhovm', 'kwzihrvl', 'hzbvdo', 'aqsevxchzj'], ['ja', 'ja', 'ayj'], ['hasrmtwgx', 'amgwsrhtx', 'gsathrwxm', 'xtrghmasw', 'amxsgwtrh'], ['hmqcrwlibzgevfu', 'rwihjmluqcfbyg', 'dloqhcamsruxbifwg', 'gclfihrubymvqw', 'mbciqgwlhurf'], ['dxfkuargjtohwcvls', 'dfoumwxaslhgkyctjv', 'wscuhxznetpoafjdvk'], ['mvqsrgbfiopjyzu', 'zurpmbfvjsoqgiy', 'usfqbrivoyjzgmp', 'jexguspbqkirvdwmoyzf', 'gprjbfoyzqusivm'], ['mihkezdcvspwxbu', 'czepsmbwvkdhuxi'], ['vialqchrd', 'kweaicrgtnsjopvzb', 'uvrafic', 'xiamrvc'], ['zcmi', 'guw', 'x', 'gar', 'got'], ['xvwkzsljehgbdonpacrfiq', 'wlbtjreczkmsyvaxidhng'], ['eqwnrafjduyzxplv', 'qhjtcxgzkos'], ['wxahm', 'gbchfnwmjosrka', 'amzwh'], ['cvzofpstnuajky', 'ycnaokvuxjtzsp', 'swupmaoztkhycrb'], ['pgad', 'awkumpe', 'yadlp', 'psav', 'avrp'], ['ulonjadhygcx', 'rzqhjglby', 'hgaupcjywlox'], ['e', 'e'], ['i', 'i', 'i', 'i', 'i'], ['eprinkqmg', 'qergipm', 'epqgmirh'], ['bhdjazui', 'rmuno', 'csfvgkxtqelwpy'], ['orupxlkwdsh', 'bkyqgdpucwx'], ['tocqbvdzkrjyhmwuexasnpigf', 'mrvpdkicejyguazobxlhwfnqst'], ['wdjzhrb', 'zrahwub', 'whzrob', 'bhrxzw', 'ztbwhrx'], ['iecdhvxspuralyw', 'pszyfdrkilebqomcxt'], ['ftarkqzvjc', 'hzkajfcvtr', 'tcvkarfdpjz'], ['kln', 'ektxflqn', 'nlk', 'unlk', 'nkdlj'], ['xcjkpbg', 'gpxcb', 'qgbxpc', 'bcoxpg', 'pcxbsg'], ['mvzcbrokq', 'bozkrv', 'zvkblroh', 'bwroekivpgz', 'zbfrjkov'], ['vnbqshoctgjf', 'lmocdupwnky', 'kodzerncx'], ['ktjndeipsf', 'imbpnaczfyj', 'jwivtneofpl', 'wpfinju', 'dqwtrfnjpig'], ['xivegkalrdmwthynbo', 'qtacbyseumzrko', 'atrfemzjkboy'], ['xpkzncegsayqrtw', 'wknecxapqrztgsy', 'kwqrspcgyneaxtz', 'xracnestqzwkgyp'], ['uynszhegoirlqbc', 'niyqsjucezlrho', 'ylcznqsfderouhi'], ['z', 'z', 'sz', 'z', 'z'], ['q', 'qx', 'wv', 'x'], ['cfkelhozwxab', 'eaxcnzkfbhlqwo', 'exfbakhzolcw', 'fwaxklczoehb'], ['rsenlowfhicmtzjxbdkvapuyq', 'meqhvkbpyrtzudwlfgnoxiac', 'wakqjlmybfozcrhntedxuvpi', 'kbcldrxohfzjuyqetmaipvwn', 'ietpwmcxbnudyroklfqvzha'], ['bdto', 'ob', 'boh', 'bo'], ['plrczwyjn', 'fjpzarli'], ['qhajfptc', 'cptfqajehy', 'hcfaqjtp', 'tjhqfacp'], ['wgsy', 'gyew'], ['mgzxhrkpuwavfietbnsyc', 'grviumnfsxtzacbwphy', 'wmxcairtfbuyhvpzgns', 'ithxgwumzprnfsyvcba', 'mcutvxhwbnipzysfrga'], ['isbkdqwrjmzcy', 'yemcbkzsi', 'mcyqkbiz', 'bzykxlcmaufi', 'cbiymzk'], ['nyja', 'enayvj', 'njay', 'njwya'], ['lubxtske', 'aqcfmhbodw'], ['itebpdhn', 'tebhnipd', 'edpthinb', 'ntpbhedi', 'ipnbdeht'], ['spiedutzrcowvjh', 'hdrpuontsizjecwv', 'suwriepvczojdth', 'cwztvhjeduspori', 'zejucpoitswrhvd'], ['lgkquyido', 'bskpneqrjwzmc'], ['oneljqiytb', 'bcpgvzuws', 'xfkdrbvg'], ['nmrqh', 'gyhvat'], ['ckrvpgfdtbwimjloyah', 'dgktyzjvobalpfmrhwci', 'tmvdpibkhrjgwycfloa', 'tdyjofbgwpvlcmrakiuh', 'yihtcmjwdvabgfkrpol'], ['qpiglchb', 'pqcgilhb', 'ihqbplgc', 'qhpilgbc'], ['pslcwxmi', 'cjlwpiqmkx', 'pxqlohciwm', 'icpmyxlw', 'vdmwtufxbrnzilpca'], ['edgnt', 'xgeiotdf', 'uaedbtwrsg', 'igemlzdt'], ['dgjkontxuilecqb', 'obvzauqerginkjdxl'], ['cqxeipfkgt', 'xfekiptqgc', 'gftckqepi', 'qkcfeigpt', 'gitpecqkfz'], ['qumr', 'qcdwu', 'qjtfkbyp'], ['zitbfyc', 'ijuyfczpb'], ['wmfpvn', 'whbzmvjplc', 'vwpsmk', 'sovwpm', 'msvrpwdf']]\n"
     ]
    }
   ],
   "source": [
    "with open('day6-list.txt', 'r') as file:\n",
    "    content = file.read()\n",
    "    lines = content.split('\\n\\n')\n",
    "    clean_content_a = [item.replace('\\n', ' ') for item in lines]\n",
    "    clean_content_b = [item.split() for item in clean_content_a]\n",
    "print(clean_content_b)"
   ]
  },
  {
   "cell_type": "code",
   "execution_count": null,
   "metadata": {},
   "outputs": [],
   "source": []
  }
 ],
 "metadata": {
  "kernelspec": {
   "display_name": "Python 3",
   "language": "python",
   "name": "python3"
  },
  "language_info": {
   "codemirror_mode": {
    "name": "ipython",
    "version": 3
   },
   "file_extension": ".py",
   "mimetype": "text/x-python",
   "name": "python",
   "nbconvert_exporter": "python",
   "pygments_lexer": "ipython3",
   "version": "3.8.5"
  }
 },
 "nbformat": 4,
 "nbformat_minor": 4
}

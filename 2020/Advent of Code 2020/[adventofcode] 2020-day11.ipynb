{
 "metadata": {
  "language_info": {
   "codemirror_mode": {
    "name": "ipython",
    "version": 3
   },
   "file_extension": ".py",
   "mimetype": "text/x-python",
   "name": "python",
   "nbconvert_exporter": "python",
   "pygments_lexer": "ipython3",
   "version": "3.7.3-final"
  },
  "orig_nbformat": 2,
  "kernelspec": {
   "name": "python3",
   "display_name": "Python 3",
   "language": "python"
  }
 },
 "nbformat": 4,
 "nbformat_minor": 2,
 "cells": [
  {
   "cell_type": "code",
   "execution_count": 25,
   "metadata": {},
   "outputs": [
    {
     "output_type": "stream",
     "name": "stdout",
     "text": [
      "* DAY 11 *\n",
      "PART 1: 2324\n",
      "PART 2: 2068\n",
      "Time: 250.0 ms\n",
      "\n"
     ]
    }
   ],
   "source": [
    "import time\n",
    "import numpy as np\n",
    "from scipy.ndimage import convolve\n",
    "\n",
    "print('* DAY 11 *')\n",
    "\n",
    "start = time.process_time()\n",
    "\n",
    "grid_converter = str.maketrans('.L#','012')\n",
    "with open('day11-list.txt') as layout:\n",
    "    grid = np.array([[int(x) for x in list(r.translate(grid_converter))]\n",
    "                     for r in layout.read().splitlines()])\n",
    "\n",
    "# Part 1\n",
    "kernel = np.array([[1,1,1],[1,0,1],[1,1,1]])\n",
    "curr_seats = np.copy(grid)\n",
    "while True:\n",
    "    prev_seats = np.copy(curr_seats)\n",
    "    res = convolve(np.where(curr_seats == 2, 1, 0), kernel, mode='constant')\n",
    "    curr_seats[(curr_seats == 1) & (res == 0)] = 2\n",
    "    curr_seats[(curr_seats == 2) & (res >= 4)] = 1\n",
    "    if (prev_seats == curr_seats).all(): break\n",
    "                \n",
    "part1 = np.count_nonzero(curr_seats == 2)\n",
    "\n",
    "# Part 2\n",
    "def closest_seat_coord(coord, offset):\n",
    "    curr_loc = (coord[0] + offset[0], coord[1] + offset[1])\n",
    "    while 0 <= curr_loc[0] < len(grid) and 0 <= curr_loc[1] < len(grid[curr_loc[0]]) and grid[curr_loc] == 0:\n",
    "        curr_loc = (curr_loc[0] + offset[0], curr_loc[1] + offset[1])\n",
    "    return curr_loc\n",
    "    \n",
    "directions = [(-1,-1),(-1,0),(-1,1),(0,-1),(0,1),(1,-1),(1,0),(1,1)]\n",
    "neighbours = np.array([[[closest_seat_coord((x, y), d) for d in directions]\n",
    "                        for y, c in enumerate(r)] for x, r in enumerate(grid)])\n",
    "neighbours = np.rollaxis(neighbours + 1, -1)\n",
    "padded_seats = np.zeros((grid.shape[0] + 2, grid.shape[1] + 2))\n",
    "\n",
    "while True:\n",
    "    prev_seats = np.copy(grid)\n",
    "    padded_seats[1:-1, 1:-1] = grid\n",
    "    neighbour_vals = np.take(padded_seats,\n",
    "                             np.ravel_multi_index(neighbours,\n",
    "                                                  padded_seats.shape)\n",
    "                             )\n",
    "    res = np.sum(neighbour_vals == 2, axis=2)\n",
    "    grid[(grid == 1) & (res == 0)] = 2\n",
    "    grid[(grid == 2) & (res >= 5)] = 1\n",
    "    if (prev_seats == grid).all(): break\n",
    "\n",
    "part2 = np.count_nonzero(grid == 2)\n",
    "\n",
    "end = time.process_time()\n",
    "\n",
    "print('PART 1:', part1)\n",
    "print('PART 2:', part2)\n",
    "\n",
    "print('Time:', round((end - start) * 1000, 3), 'ms')\n",
    "print()"
   ]
  },
  {
   "cell_type": "code",
   "execution_count": 24,
   "metadata": {},
   "outputs": [
    {
     "output_type": "stream",
     "name": "stdout",
     "text": [
      "The solution for part 1 is 2284\n"
     ]
    }
   ],
   "source": [
    "#NOT WORKING\n",
    "\n",
    "with open('day11-list.txt', 'r') as file:\n",
    "    content = [item.rstrip() for item in file.readlines()]\n",
    "    content = [list(item) for item in content]\n",
    "\n",
    "rows, cols = len(content), len(content[0])\n",
    "deltas = [(-1,-1), (-1,0), (-1,1), (0,-1), (0,1), (1,-1), (1,0), (1,1)]\n",
    "\n",
    "def occupied_count(row, col, grid):\n",
    "    count = 0\n",
    "    for i, j in deltas:\n",
    "        xi, xj = row+i, col+j\n",
    "        \n",
    "        if i <= xi < rows and 0 <= xj < cols and grid[xi][xj] == '#':\n",
    "            count += 1\n",
    "    return count\n",
    "\n",
    "def occupied_num(item, treshold=4):\n",
    "    while True:\n",
    "        valid = True\n",
    "        temp = [row.copy() for row in item]\n",
    "\n",
    "        for i, r in enumerate(temp):\n",
    "            for j, c in enumerate(r):\n",
    "                count = occupied_count(i, j, temp)\n",
    "                if c == 'L' and count == 0:\n",
    "                    item[i][j] = '#'\n",
    "                elif c == '#' and count >= treshold:\n",
    "                    item[i][j] = 'L'\n",
    "                valid &= (r[j] == item[i][j])\n",
    "        if valid:\n",
    "            break\n",
    "\n",
    "    answer = 0\n",
    "    for i in range(rows):\n",
    "        for j in range(cols):\n",
    "            if item[i][j] == '#':\n",
    "                answer += 1\n",
    "    return print(f'The solution for part 1 is {answer}')\n",
    "\n",
    "occupied_num(content)"
   ]
  }
 ]
}
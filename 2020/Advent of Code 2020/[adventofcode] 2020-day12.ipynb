{
 "metadata": {
  "language_info": {
   "codemirror_mode": {
    "name": "ipython",
    "version": 3
   },
   "file_extension": ".py",
   "mimetype": "text/x-python",
   "name": "python",
   "nbconvert_exporter": "python",
   "pygments_lexer": "ipython3",
   "version": "3.8.5-final"
  },
  "orig_nbformat": 2,
  "kernelspec": {
   "name": "python3",
   "display_name": "Python 3",
   "language": "python"
  }
 },
 "nbformat": 4,
 "nbformat_minor": 2,
 "cells": [
  {
   "source": [
    "## EXPLANATION CORNER\n",
    "Coming..\n"
   ],
   "cell_type": "markdown",
   "metadata": {}
  },
  {
   "cell_type": "code",
   "execution_count": 2,
   "metadata": {},
   "outputs": [
    {
     "output_type": "stream",
     "name": "stdout",
     "text": [
      "manhattan distance part 1:  2057\nmanhattan distance with waypoint:  71504\n"
     ]
    }
   ],
   "source": [
    "import numpy as np\n",
    "instructions = []\n",
    "with open ('day12-list.txt') as input:\n",
    "    lines = input.readlines()\n",
    "    for line in lines:\n",
    "        line = line.strip()\n",
    "        instructions.append(line)\n",
    "\n",
    "\n",
    "class angle:\n",
    "    def __init__(self, angle_val):\n",
    "        self.angle_val = angle_val\n",
    "    def add_to_angle(self, value):\n",
    "        angle_sum = self.angle_val + value\n",
    "        if angle_sum >= 360:\n",
    "            angle_sum = angle_sum - 360\n",
    "        elif angle_sum < 0:\n",
    "            angle_sum = angle_sum + 360\n",
    "        self.angle_val = angle_sum\n",
    "    def get_direction(self):\n",
    "        angle_dict = {0:'W', 90:'N', 180:'E', 270:'S'}\n",
    "        return angle_dict[self.angle_val]\n",
    "\n",
    "\n",
    "def move_ship(instructions):\n",
    "    init_coords = [0, 0]\n",
    "    ship_angle = angle(180)\n",
    "    cur_face = ship_angle.get_direction()\n",
    "    for line in instructions:\n",
    "        command = line[0]\n",
    "        command_val = int(line[1:])\n",
    "        if command in ['N', 'S', 'W', 'E']:\n",
    "            init_coords = move_in_direction(command, command_val, init_coords)\n",
    "        elif command == 'R':\n",
    "            # pretty sure the rule maker mixed up left and right\n",
    "            ship_angle.add_to_angle(command_val)\n",
    "            cur_face = ship_angle.get_direction()\n",
    "        elif command == 'L':\n",
    "            ship_angle.add_to_angle(-command_val)\n",
    "            cur_face = ship_angle.get_direction()\n",
    "        elif command == 'F':\n",
    "            init_coords = move_in_direction(cur_face, command_val, init_coords)\n",
    "    return init_coords\n",
    "\n",
    "def move_in_direction(direction, value, init_coords):\n",
    "    if direction == 'N':\n",
    "        init_coords[1] += value\n",
    "    elif direction == 'S':\n",
    "        init_coords[1] -= value\n",
    "    elif direction == 'W':\n",
    "        init_coords[0] += value\n",
    "    elif direction == 'E':\n",
    "        init_coords[0] -= value\n",
    "    return init_coords\n",
    "\n",
    "out_coords = move_ship(instructions)\n",
    "manhattan = sum([abs(i) for i in out_coords])\n",
    "print('manhattan distance part 1: ',manhattan)\n",
    "\n",
    "### part 2 ###\n",
    "\n",
    "def turn_waypoint(waypoint_coords, turn_angle, direction):\n",
    "    coords_relative = waypoint_coords.copy()\n",
    "    N_90s = int(turn_angle/90)\n",
    "    for i in range(N_90s):\n",
    "        a = coords_relative[0]\n",
    "        b = coords_relative[1]\n",
    "        if direction == 'R':\n",
    "            coords_relative = np.array([-b, a])\n",
    "        elif direction == 'L':\n",
    "            coords_relative = np.array([b, -a])\n",
    "    return coords_relative\n",
    "\n",
    "\n",
    "def move_along_waypoint(instructions):\n",
    "    waypoint_coords = np.array([-10, 1])\n",
    "    ship_coords = np.array([0, 0])\n",
    "    for line in instructions:\n",
    "        command = line[0]\n",
    "        command_val = int(line[1:])\n",
    "        if command in ['N', 'S', 'W', 'E']:\n",
    "            waypoint_coords = move_in_direction(command, command_val, waypoint_coords)\n",
    "        elif command == 'R' or command == 'L':\n",
    "            waypoint_coords = turn_waypoint(waypoint_coords, command_val, command)\n",
    "        elif command == 'F':\n",
    "            ship_coords += waypoint_coords * command_val\n",
    "    return ship_coords\n",
    "\n",
    "out_coords = move_along_waypoint(instructions)\n",
    "manhattan = sum([abs(i) for i in out_coords])\n",
    "print('manhattan distance with waypoint: ',manhattan)"
   ]
  },
  {
   "source": [
    "with open('day12-list.txt', 'r') as file:\n",
    "    content = file.read()\n",
    "    content = content.split()\n",
    "\n",
    "#convert to dictionary\n",
    "def convert_to_dict(data):\n",
    "    dict_data = {}\n",
    "\n",
    "    key = data[0]\n",
    "    val = data[1:]\n",
    "    dict_data[key] = int(val)\n",
    "    return dict_data\n",
    "\n",
    "data = [convert_to_dict(item) for item in content]\n",
    "direction = ['North', 'East', 'South', 'West']\n",
    "def moving_direction(dir, val):\n",
    "    #calculate moving direction based on conditional\n",
    "    north = 0\n",
    "    east = 0\n",
    "    south = 0\n",
    "    west = 0\n",
    "\n",
    "    while True:\n",
    "        if data[0][dir] == 'N':\n",
    "            north += data[dir]\n",
    "        else:\n",
    "            break"
   ],
   "cell_type": "code",
   "metadata": {},
   "execution_count": 13,
   "outputs": [
    {
     "output_type": "error",
     "ename": "TypeError",
     "evalue": "int() argument must be a string, a bytes-like object or a number, not 'list'",
     "traceback": [
      "\u001b[1;31m---------------------------------------------------------------------------\u001b[0m",
      "\u001b[1;31mTypeError\u001b[0m                                 Traceback (most recent call last)",
      "\u001b[1;32m<ipython-input-13-f06e2504ad05>\u001b[0m in \u001b[0;36m<module>\u001b[1;34m\u001b[0m\n\u001b[0;32m     28\u001b[0m         \u001b[1;32melse\u001b[0m\u001b[1;33m:\u001b[0m\u001b[1;33m\u001b[0m\u001b[1;33m\u001b[0m\u001b[0m\n\u001b[0;32m     29\u001b[0m             \u001b[1;32mbreak\u001b[0m\u001b[1;33m\u001b[0m\u001b[1;33m\u001b[0m\u001b[0m\n\u001b[1;32m---> 30\u001b[1;33m \u001b[0mconvert_to_dict\u001b[0m\u001b[1;33m(\u001b[0m\u001b[0mcontent\u001b[0m\u001b[1;33m)\u001b[0m\u001b[1;33m\u001b[0m\u001b[1;33m\u001b[0m\u001b[0m\n\u001b[0m",
      "\u001b[1;32m<ipython-input-13-f06e2504ad05>\u001b[0m in \u001b[0;36mconvert_to_dict\u001b[1;34m(data)\u001b[0m\n\u001b[0;32m      9\u001b[0m     \u001b[0mkey\u001b[0m \u001b[1;33m=\u001b[0m \u001b[0mdata\u001b[0m\u001b[1;33m[\u001b[0m\u001b[1;36m0\u001b[0m\u001b[1;33m]\u001b[0m\u001b[1;33m\u001b[0m\u001b[1;33m\u001b[0m\u001b[0m\n\u001b[0;32m     10\u001b[0m     \u001b[0mval\u001b[0m \u001b[1;33m=\u001b[0m \u001b[0mdata\u001b[0m\u001b[1;33m[\u001b[0m\u001b[1;36m1\u001b[0m\u001b[1;33m:\u001b[0m\u001b[1;33m]\u001b[0m\u001b[1;33m\u001b[0m\u001b[1;33m\u001b[0m\u001b[0m\n\u001b[1;32m---> 11\u001b[1;33m     \u001b[0mdict_data\u001b[0m\u001b[1;33m[\u001b[0m\u001b[0mkey\u001b[0m\u001b[1;33m]\u001b[0m \u001b[1;33m=\u001b[0m \u001b[0mint\u001b[0m\u001b[1;33m(\u001b[0m\u001b[0mval\u001b[0m\u001b[1;33m)\u001b[0m\u001b[1;33m\u001b[0m\u001b[1;33m\u001b[0m\u001b[0m\n\u001b[0m\u001b[0;32m     12\u001b[0m \u001b[1;33m\u001b[0m\u001b[0m\n\u001b[0;32m     13\u001b[0m     \u001b[0ma\u001b[0m \u001b[1;33m=\u001b[0m \u001b[1;33m[\u001b[0m\u001b[0mitem\u001b[0m \u001b[1;32mfor\u001b[0m \u001b[0mitem\u001b[0m \u001b[1;32min\u001b[0m \u001b[0mdict_data\u001b[0m\u001b[1;33m]\u001b[0m\u001b[1;33m\u001b[0m\u001b[1;33m\u001b[0m\u001b[0m\n",
      "\u001b[1;31mTypeError\u001b[0m: int() argument must be a string, a bytes-like object or a number, not 'list'"
     ]
    }
   ]
  }
 ]
}
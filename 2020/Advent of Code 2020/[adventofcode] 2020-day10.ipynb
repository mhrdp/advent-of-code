{
 "metadata": {
  "language_info": {
   "codemirror_mode": {
    "name": "ipython",
    "version": 3
   },
   "file_extension": ".py",
   "mimetype": "text/x-python",
   "name": "python",
   "nbconvert_exporter": "python",
   "pygments_lexer": "ipython3",
   "version": "3.7.3-final"
  },
  "orig_nbformat": 2,
  "kernelspec": {
   "name": "python3",
   "display_name": "Python 3",
   "language": "python"
  }
 },
 "nbformat": 4,
 "nbformat_minor": 2,
 "cells": [
  {
   "source": [
    "# Code explanation\n",
    "My explanation for the codes, from what I can understand\n",
    "## Opening <code>.txt</code> file:\n",
    "<ul>\n",
    "    <li><code>int</code> is to convert <code>str</code> type of items into interger / number</li>\n",
    "    <li><code>rstrip</code> is to remove whitespaces at the end of string</li>\n",
    "    <li><code>.readlines()</code> is to read the <code>.txt</code> file and convert it into list of strings</li>\n",
    "</ul>\n",
    "\n",
    "## Part 1\n",
    "<ul>\n",
    "    <li><code>content.append(max(content)+3)</code> is to look for item that has the highest value and give it an addition of 3</li>\n",
    "    <li><code>while True</code> mean to loop forever, so the <code>break</code> at the end of <code>if</code> loop was to make sure the loop ends</li>\n",
    "</ul>\n",
    "\n",
    "## Part 2\n",
    "### Trying to understand <code>dict</code> in Python\n",
    "By default, if you want to append value to <code>dict</code> in Python, the format is something like <code>dict[key] = value</code>. You can use <code>if</code> loop to check whether the <code>key</code> already existed or not. If it already exist, then it will simply modify the <code>value</code>-- if it does not exist, then it will add the new values to the dictionary.\n",
    "<ul>\n",
    "    <li>We use <code>for</code> combined with <code>if</code> instead of <code>if.. elif..</code> because we want every single value to be checked by all of the ifs conditional</code>\n",
    "    <li><code>arrangement{0:1}</code> is a dictionary with only one item, which was <code>{0:1}</code>. We will add more items to this</code></li>\n",
    "    <li>The <code>key</code> that this dictionary will have are the value of <code>content</code> list</li>\n",
    "    <li><code>if line-1</code> was to check whether the value of <code>line-1</code> is in the <code>content</code> list, and if it's true, it will add the value of index number <code>line-1</code> inside <code>line</code> value. The same apllied to <code>line-2</code> and <code>line-3</code>.</li>\n",
    "    <li>When <code>arrangement[line]</code> key has more than one <code>if</code> that return <code>True</code>, it will automatically modify the existing value by adding the it with currently executed value because of <code>+=</code> operator.</li>\n",
    "</ul>"
   ],
   "cell_type": "markdown",
   "metadata": {}
  },
  {
   "cell_type": "code",
   "execution_count": 23,
   "metadata": {},
   "outputs": [
    {
     "output_type": "stream",
     "name": "stdout",
     "text": [
      "Part 1 answer is 2232\nPart 2 answer is 173625106649344\n"
     ]
    }
   ],
   "source": [
    "with open('day10-list.txt', 'r') as file:\n",
    "    content = [int(items.rstrip()) for items in file.readlines()]\n",
    "\n",
    "#Part 1\n",
    "one_jolt = 0\n",
    "two_jolt = 0\n",
    "three_jolt = 0\n",
    "outlet_rating = 0\n",
    "content.append(max(content)+3)\n",
    "\n",
    "while True:\n",
    "    if outlet_rating + 1 in content:\n",
    "        one_jolt += 1\n",
    "        outlet_rating += 1\n",
    "    elif outlet_rating + 2 in content:\n",
    "        two_jolt += 1\n",
    "    elif outlet_rating + 3 in content:\n",
    "        three_jolt += 1\n",
    "        outlet_rating += 3\n",
    "    else:\n",
    "        break\n",
    "\n",
    "#Part 2\n",
    "arrangement = {0:1}\n",
    "for line in sorted(content):\n",
    "    arrangement[line] = 0\n",
    "    if line - 1 in arrangement:\n",
    "        arrangement[line] += arrangement[line-1]\n",
    "    if line - 2 in arrangement:\n",
    "        arrangement[line] += arrangement[line-2]\n",
    "    if line - 3 in arrangement:\n",
    "        arrangement[line] += arrangement[line-3]\n",
    "\n",
    "#Part 1 Result\n",
    "result_1 = one_jolt * three_jolt\n",
    "print(f'Part 1 answer is {result_1}')\n",
    "\n",
    "#Part 2 Result\n",
    "result_2 = arrangement[max(content)]\n",
    "print(f'Part 2 answer is {result_2}')"
   ]
  }
 ]
}
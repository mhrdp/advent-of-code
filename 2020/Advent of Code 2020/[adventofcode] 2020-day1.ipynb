{
 "cells": [
  {
   "cell_type": "code",
   "execution_count": 3,
   "metadata": {},
   "outputs": [
    {
     "name": "stdout",
     "output_type": "stream",
     "text": [
      "[1544, 1560, 1947, 1659, 1972, 1940, 1977, 1689, 1916, 1638, 1804, 1543, 1789, 545, 968, 1959, 1783, 1869, 1581, 1976, 1859, 1660, 1793, 69, 1653, 1866, 1541, 1920, 1751, 1681, 1829, 2009, 1752, 680, 1864, 1628, 1917, 1876, 2002, 1974, 1827, 1791, 1552, 1669, 1849, 1167, 1744, 1764, 1913, 1782, 1926, 1795, 1738, 1877, 1811, 1746, 1682, 1943, 1761, 1850, 983, 1617, 1901, 1750, 1842, 1588, 1679, 1759, 1994, 1847, 1657, 1981, 1648, 1996, 1572, 1953, 1555, 1665, 1680, 1872, 1826, 1316, 1962, 1893, 1545, 1535, 1895, 1819, 1891, 1919, 1853, 1831, 704, 1978, 1780, 1722, 1652, 1625, 478, 1030, 1985, 1720, 1817, 264, 1988, 1892, 1712, 1222, 1840, 1894, 1906, 1890, 1846, 1939, 1991, 1835, 1799, 1865, 1663, 1908, 1575, 1970, 1956, 1556, 1688, 1558, 1698, 1771, 1807, 1878, 1707, 1770, 1823, 1802, 1930, 1703, 1136, 1910, 1998, 1973, 1611, 1979, 1612, 1838, 1715, 1885, 1879, 1904, 1941, 1734, 1900, 1809, 1691, 1848, 1683, 1754, 1874, 1975, 1896, 1567, 1785, 1644, 1922, 1651, 1046, 1971, 1600, 1933, 1857, 1960, 1948, 1675, 1828, 1633, 1868, 1615, 1884, 1674, 1860, 1775, 995, 1596, 2006, 1737, 1649, 1997, 1767, 1784, 1705, 1664, 1766, 1839, 1533, 1935, 1796, 1781, 1589, 1594, 1987, 1769]\n"
     ]
    }
   ],
   "source": [
    "with open('advent-of-code-list-1.txt', 'r') as f:\n",
    "    list2 = []\n",
    "    for item in f:\n",
    "        num = 0\n",
    "        while num < 1:\n",
    "            list2.append(int(item.strip()))\n",
    "            num += 1\n",
    "print(list2)"
   ]
  },
  {
   "cell_type": "code",
   "execution_count": 32,
   "metadata": {},
   "outputs": [
    {
     "name": "stdout",
     "output_type": "stream",
     "text": [
      "(983, 968, 69, 65656536)\n"
     ]
    }
   ],
   "source": [
    "#Day 1, solution for three items\n",
    "class openList:\n",
    "    def myFile(self):\n",
    "        with open('advent-of-code-list-1.txt', 'r') as f:\n",
    "            listAppend = []\n",
    "            for items in f:\n",
    "                num = 0\n",
    "                while num < 1:\n",
    "                    listAppend.append(int(items.strip()))\n",
    "                    num += 1\n",
    "        for i in listAppend:\n",
    "            for j in listAppend:\n",
    "                if (2020-i-j) in listAppend:\n",
    "                    return (2020-i-j, i, j, (2020-i-j)*i*j)\n",
    "print(openList().myFile())"
   ]
  },
  {
   "cell_type": "code",
   "execution_count": 2,
   "metadata": {
    "scrolled": true
   },
   "outputs": [
    {
     "name": "stdout",
     "output_type": "stream",
     "text": [
      "(704, 1316, 926464)\n",
      "number 1 = 704, number 2 = 1316, multiplication = 926464\n"
     ]
    }
   ],
   "source": [
    "#Day 1, solution for two items\n",
    "class openList:\n",
    "    def myFile(self):\n",
    "        with open('advent-of-code-list-1.txt', 'r') as f:\n",
    "            listAppend = []\n",
    "            for items in f:\n",
    "                num = 0\n",
    "                while num < 1:\n",
    "                    listAppend.append(int(items.strip()))\n",
    "                    num += 1\n",
    "        for i in listAppend:\n",
    "            if 2020 - i in listAppend:\n",
    "                return 2020-i, i, (2020-i)*i\n",
    "print(openList().myFile())\n",
    "print('number 1 = %d, number 2 = %d, multiplication = %d' % openList().myFile())"
   ]
  },
  {
   "cell_type": "markdown",
   "metadata": {},
   "source": [
    "Trying to understand the logic behind the algorithm corner"
   ]
  },
  {
   "cell_type": "markdown",
   "metadata": {},
   "source": [
    "Explanation I came up so far:\n",
    "\n",
    "<b><span style='color: red'>Opening the file:</span></b>\n",
    "<code>with</code> statement used to define something as an objects, in this case a .txt file.\n",
    "<i>listAppend</i> variable is empty, and later will be appended by the new values via <b>append()</b> function\n",
    "\n",
    "<b><span style='color: red'>for statement:</span></b>\n",
    "<code>for</code> statement was to loop each indexes one by one and post the result.\n",
    "two <code>for</code> statement that used in three items solution was act the same, with just one extra loop\n",
    "\n",
    "<b>WHY</b> not use two variables <code>for</code>, like <code>for i, j</code>?\n",
    "Well, the list <i>listAppend</i> only have one dimension, so there will be not enough column for <code>for</code> variables to be assigned to. Hence you actually need to make two <code>for</code> loop.\n",
    "I don't know what this <code>2020 - i</code> or <code>2020 - i - j</code> are all about, but I suppose the main function for those was to find a set of numbers inside <i>listAppend</i> that have 2020 when added together.\n",
    "\n",
    "\n",
    "\n"
   ]
  },
  {
   "cell_type": "code",
   "execution_count": 11,
   "metadata": {},
   "outputs": [
    {
     "name": "stdout",
     "output_type": "stream",
     "text": [
      "30 20 50\n",
      "40 10 50\n",
      "20 30 50\n",
      "10 40 50\n",
      "30 20 50\n"
     ]
    },
    {
     "ename": "TypeError",
     "evalue": "not enough arguments for format string",
     "output_type": "error",
     "traceback": [
      "\u001b[1;31m---------------------------------------------------------------------------\u001b[0m",
      "\u001b[1;31mTypeError\u001b[0m                                 Traceback (most recent call last)",
      "\u001b[1;32m<ipython-input-11-26d8e8754b4b>\u001b[0m in \u001b[0;36m<module>\u001b[1;34m\u001b[0m\n\u001b[0;32m      5\u001b[0m     \u001b[1;32mif\u001b[0m \u001b[1;36m50\u001b[0m \u001b[1;33m-\u001b[0m \u001b[0mi\u001b[0m \u001b[1;32min\u001b[0m \u001b[0marray\u001b[0m\u001b[1;33m:\u001b[0m\u001b[1;33m\u001b[0m\u001b[1;33m\u001b[0m\u001b[0m\n\u001b[0;32m      6\u001b[0m         \u001b[0mprint\u001b[0m\u001b[1;33m(\u001b[0m\u001b[0mtarget\u001b[0m \u001b[1;33m-\u001b[0m \u001b[0mi\u001b[0m\u001b[1;33m,\u001b[0m \u001b[0mi\u001b[0m\u001b[1;33m,\u001b[0m \u001b[1;33m(\u001b[0m\u001b[0mtarget\u001b[0m\u001b[1;33m-\u001b[0m\u001b[0mi\u001b[0m\u001b[1;33m)\u001b[0m\u001b[1;33m+\u001b[0m\u001b[0mi\u001b[0m\u001b[1;33m)\u001b[0m\u001b[1;33m\u001b[0m\u001b[1;33m\u001b[0m\u001b[0m\n\u001b[1;32m----> 7\u001b[1;33m \u001b[0mprint\u001b[0m\u001b[1;33m(\u001b[0m\u001b[1;34m'1st number = %d, 2nd number = %d, addition = %d'\u001b[0m \u001b[1;33m%\u001b[0m \u001b[0mtarget\u001b[0m\u001b[1;33m-\u001b[0m\u001b[0mi\u001b[0m\u001b[1;33m,\u001b[0m \u001b[0mi\u001b[0m\u001b[1;33m,\u001b[0m \u001b[1;33m(\u001b[0m\u001b[0mtarget\u001b[0m\u001b[1;33m-\u001b[0m\u001b[0mi\u001b[0m\u001b[1;33m)\u001b[0m\u001b[1;33m+\u001b[0m\u001b[0mi\u001b[0m\u001b[1;33m)\u001b[0m\u001b[1;33m\u001b[0m\u001b[1;33m\u001b[0m\u001b[0m\n\u001b[0m",
      "\u001b[1;31mTypeError\u001b[0m: not enough arguments for format string"
     ]
    }
   ],
   "source": [
    "array = [20, 10, 30, 40, 20, 5]\n",
    "target = 50\n",
    "\n",
    "for i in array:\n",
    "    if 50 - i in array:\n",
    "        print(target - i, i, (target-i)+i)\n",
    "print('1st number = %d, 2nd number = %d, addition = %d' % target-i, i, (target-i)+i)"
   ]
  }
 ],
 "metadata": {
  "kernelspec": {
   "display_name": "Python 3",
   "language": "python",
   "name": "python3"
  },
  "language_info": {
   "codemirror_mode": {
    "name": "ipython",
    "version": 3
   },
   "file_extension": ".py",
   "mimetype": "text/x-python",
   "name": "python",
   "nbconvert_exporter": "python",
   "pygments_lexer": "ipython3",
   "version": "3.8.5"
  }
 },
 "nbformat": 4,
 "nbformat_minor": 4
}

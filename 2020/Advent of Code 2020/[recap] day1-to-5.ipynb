{
 "cells": [
  {
   "cell_type": "code",
   "execution_count": 51,
   "metadata": {},
   "outputs": [
    {
     "name": "stdout",
     "output_type": "stream",
     "text": [
      "First number is: 704 | Second number is: 1316 | Multiplication: 926464\n",
      "First number is: 983 | Second number is: 968 | Third number is: 69 | Multiplication: 65656536\n"
     ]
    }
   ],
   "source": [
    "#Day 1 part 1 and 2\n",
    "with open('advent-of-code-list-1.txt', 'r') as file:\n",
    "    content = file.read()\n",
    "    lines = content.split()\n",
    "    index = []\n",
    "    \n",
    "    for item in lines:\n",
    "        index.append(int(item))\n",
    "\n",
    "#Part 1 Solution\n",
    "def count_2020(item):\n",
    "    target = 2020\n",
    "    for i in item:\n",
    "        if target - i in item:\n",
    "            return (target - i), i, (target - i)*i\n",
    "\n",
    "#Part 2 Solution\n",
    "def count_2020_2(item):\n",
    "    target = 2020\n",
    "    for i in item:\n",
    "        for j in item:\n",
    "            if target-i-j in item:\n",
    "                return(target-i-j), i, j, (target-i-j)*i*j\n",
    "\n",
    "#Part 1\n",
    "print('First number is: %d | Second number is: %d | Multiplication: %d' % count_2020(index))\n",
    "print('First number is: %d | Second number is: %d | Third number is: %d | Multiplication: %d' % count_2020_2(index))"
   ]
  },
  {
   "cell_type": "code",
   "execution_count": 112,
   "metadata": {
    "scrolled": true
   },
   "outputs": [
    {
     "name": "stdout",
     "output_type": "stream",
     "text": [
      "The number of legit password for part 1: 396\n",
      "The number of legit password for part 2: 428\n"
     ]
    }
   ],
   "source": [
    "#Day 2 Part 1 and 2\n",
    "with open('day2-list.txt', 'r') as file:\n",
    "    content = file.read()\n",
    "    lines = content.split('\\n')\n",
    "    \n",
    "    #This function was to make a nested list (list inside a list)\n",
    "    #So each password and its requirements can be separated\n",
    "    nested = []\n",
    "    for item in lines:\n",
    "        nested.append(item.split())\n",
    "        \n",
    "\n",
    "def to_dictionary(items):\n",
    "    dict_a = {}\n",
    "    min_max = items[0].split('-')\n",
    "    \n",
    "    dict_a['min'] = int(min_max[0])\n",
    "    dict_a['max'] = int(min_max[1])\n",
    "    dict_a['char'] = items[1][0]\n",
    "    dict_a['pass'] = items[2]\n",
    "    \n",
    "    return dict_a\n",
    "\n",
    "#This is a list comprehension, which basically mean a short way to create a new list based on existing value\n",
    "#By doing this, in this particular case, the code will take each nested list inside of parent list and append it to new variable\n",
    "#Which is probably why, if you take a look to mix_max variable, you don't need 2 set of brackets to specify the item you wanted\n",
    "#You only need 1 set of bracket, because it essentially one list, rather than a nested list.\n",
    "#If you use 2 set of brackets, it will instead pick an individual string inside whichever item the first bracket pick.\n",
    "new_list = [to_dictionary(new_lines) for new_lines in nested]\n",
    "\n",
    "def verification(items):\n",
    "    count_char = items['pass'].count(items['char'])\n",
    "    number_of_items = items['min'] <= count_char <= items['max']\n",
    "    if number_of_items:\n",
    "        return number_of_items\n",
    "\n",
    "def verification_2(items):\n",
    "    first_position = items['min']\n",
    "    last_position = items['max']\n",
    "    \n",
    "    first_position_check = items['pass'][first_position-1] == items['char']\n",
    "    last_position_check = items['pass'][last_position-1] == items['char']\n",
    "    \n",
    "    validation = first_position_check ^ last_position_check\n",
    "    \n",
    "    if validation:\n",
    "        return validation\n",
    "\n",
    "#Part 1\n",
    "verif_item = list(filter(verification, new_list))\n",
    "print('The number of legit password for part 1: %d' % len(verif_item))\n",
    "\n",
    "#Part 2\n",
    "verif_item_2 = list(filter(verification_2, new_list))\n",
    "print('The number of legit password for part 2: %d' % len(verif_item_2))"
   ]
  },
  {
   "cell_type": "code",
   "execution_count": 139,
   "metadata": {},
   "outputs": [
    {
     "name": "stdout",
     "output_type": "stream",
     "text": [
      "Part 1 solution: 203 trees\n",
      "Part 2 solution: 3316272960\n"
     ]
    }
   ],
   "source": [
    "#Day 3 Part 1 and 2\n",
    "with open('day3-list.txt', 'r') as file:\n",
    "    content = file.read()\n",
    "    lines = content.split()\n",
    "    \n",
    "each_index_len = len(lines[0])\n",
    "list_len = len(lines)\n",
    "\n",
    "#Part 1 solution\n",
    "#This function was to find out what kind of items are there at a given coordinate\n",
    "def coordinates(right, down):\n",
    "    to_the_right = right % each_index_len\n",
    "    return lines[down][to_the_right]\n",
    "\n",
    "#This function, just like the name implies, is to count how many trees (#) at a given coordinates\n",
    "def trees_count(right, down):\n",
    "    right_position = 0\n",
    "    down_position = 0\n",
    "    tree = 0\n",
    "    \n",
    "    while down_position < list_len:\n",
    "        if coordinates(right_position, down_position) == '#':\n",
    "            tree += 1\n",
    "        right_position += right\n",
    "        down_position += down\n",
    "        \n",
    "    return tree\n",
    "\n",
    "#Part 2 solution\n",
    "coord1 = trees_count(1, 1)\n",
    "coord2 = trees_count(3, 1)\n",
    "coord3 = trees_count(5, 1)\n",
    "coord4 = trees_count(7, 1)\n",
    "coord5 = trees_count(1, 2)\n",
    "\n",
    "count_total = coord1 * coord2 * coord3 * coord4 * coord5\n",
    "\n",
    "print('Part 1 solution: %d trees' % trees_count(3, 1))\n",
    "print(f'Part 2 solution: {count_total}')"
   ]
  },
  {
   "cell_type": "code",
   "execution_count": 94,
   "metadata": {},
   "outputs": [
    {
     "name": "stdout",
     "output_type": "stream",
     "text": [
      "23571\n"
     ]
    }
   ],
   "source": []
  },
  {
   "cell_type": "code",
   "execution_count": null,
   "metadata": {},
   "outputs": [],
   "source": []
  }
 ],
 "metadata": {
  "kernelspec": {
   "display_name": "Python 3",
   "language": "python",
   "name": "python3"
  },
  "language_info": {
   "codemirror_mode": {
    "name": "ipython",
    "version": 3
   },
   "file_extension": ".py",
   "mimetype": "text/x-python",
   "name": "python",
   "nbconvert_exporter": "python",
   "pygments_lexer": "ipython3",
   "version": "3.8.5"
  }
 },
 "nbformat": 4,
 "nbformat_minor": 4
}

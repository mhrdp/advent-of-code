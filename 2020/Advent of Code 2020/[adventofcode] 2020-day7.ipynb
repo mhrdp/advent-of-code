{
 "cells": [
  {
   "cell_type": "markdown",
   "metadata": {},
   "source": [
    "<b><span style='color:green; font-size:24px'>Code Explanation, What I Knew So Far:</span></b><br />\n",
    "\n"
   ]
  },
  {
   "cell_type": "code",
   "execution_count": 71,
   "metadata": {},
   "outputs": [
    {
     "name": "stdout",
     "output_type": "stream",
     "text": [
      "177\n"
     ]
    }
   ],
   "source": [
    "with open('day7-list.txt', 'r') as file:\n",
    "    content = file.read().split('.\\n')\n",
    "\n",
    "#Clean the data, and make dictionary out of it\n",
    "bag_dict = {}    \n",
    "for bag in content:\n",
    "    bag = bag.replace(' bags', '').replace(' bag', '').replace('.', '')\n",
    "    bag = bag.split(' contain ')\n",
    "    bag_dict[bag[0]] = bag[1]\n",
    "\n",
    "#A function to make a set from select item, no diplicate allowed\n",
    "bag_set = set()\n",
    "def parent_bag(inside_bag):\n",
    "    for parent in bag_dict:\n",
    "        lines = bag_dict[parent]\n",
    "        if inside_bag in lines:\n",
    "            parent_bag(parent)\n",
    "            bag_set.add(parent)\n",
    "    return #optional method in this case\n",
    "\n",
    "#Initialize item to filter the set or list\n",
    "parent_bag('shiny gold')\n",
    "\n",
    "#Count how many initialized items are there, in this case 'shiny gold'\n",
    "print(str(len(bag_set)))"
   ]
  },
  {
   "cell_type": "markdown",
   "metadata": {},
   "source": [
    "<strong><span style='color:red; font-size: 42px'>OBSOLETE EXPLANATION</span></strong><br />\n",
    "<b><span style='color:red'>Explanation that I can come up with:</span></b>\n",
    "\n",
    "<b>Anything inside <code>def data_structure(<i>data</i>)</code>:</b>\n",
    "<ul>\n",
    "    <li><code>re</code> is a Python built-in <span style='color:green'>Regular Expression</span> operator package. It was use to find specific pattern in a string. There are several commands and functions to operate this:</li>\n",
    "        <ul>\n",
    "            <li><code>re.search(<i>conditions</i>, <i>text</i>)</code> is a <b>function</b> to return a matching object if there is a match anywhere in the string</li>\n",
    "            <li><code>re.findall(<i>conditions</i>, <i>text</i>)</code> is a <b>function</b> to return a list containing all matches. It returns the order of the matching items as an object.</li>\n",
    "            <li><code>r</code> prefix before a string started mean <i>raw string</i>. It treats backlash(\\) as a literal character rather than escape string</li>\n",
    "            <li><code>^</code> mean <i>start with</i></li>\n",
    "            <li><code>\\w+ \\w+</code> - <code>\\w</code> (lowercase 'w', because lowercase 'w' and uppercase 'W' trigger different behaviour) is to return a match where the string contains any word characters (alphabets, number, and underscore). I don't know what double <code>\\w+</code> means. <code>+</code> mean one or more occurences</li>\n",
    "            <li><code>.*</code> - <code>.</code> mean any character, <code>*</code> mean zero or more occurrences.</li>\n",
    "            <li><code>[0-9]</code> return a match for any digit between 0 to 9</li>\n",
    "            <li>There are several white spaces here and there that I don't know what's for, but it seems the functions not working without it. And I still need to analyze the structures of each conditions.</li>\n",
    "        </ul>\n",
    "    <li><code>bag_and_contents[2][:-1]</code> - the <code>[:-1]</code> is to exclude the periods (.) at the end of every list. Because in the raw list, there are a period at each end.</li>\n",
    "    <li><code>result[bag_type] = bag_contents</code> was to combine every value into a dictionary. <code>result[bag_type]</code> was the keys, and <code>bag_contents</code> was the values. <code>result = {}</code> need to be declared first</li>\n",
    "</ul>"
   ]
  },
  {
   "cell_type": "code",
   "execution_count": 53,
   "metadata": {},
   "outputs": [
    {
     "name": "stdout",
     "output_type": "stream",
     "text": [
      "5\n",
      "8\n",
      "9\n",
      "13\n",
      "17\n",
      "22\n",
      "23\n",
      "25\n",
      "28\n",
      "29\n",
      "31\n",
      "33\n",
      "34\n",
      "39\n",
      "40\n",
      "42\n",
      "43\n",
      "47\n",
      "48\n",
      "53\n",
      "58\n",
      "60\n",
      "63\n",
      "66\n",
      "68\n",
      "72\n",
      "75\n",
      "78\n",
      "79\n",
      "83\n",
      "85\n",
      "86\n",
      "87\n",
      "91\n",
      "92\n",
      "97\n",
      "98\n",
      "37\n"
     ]
    }
   ],
   "source": [
    "import re\n",
    "\n",
    "with open('day7-list.txt', 'r') as file:\n",
    "    content = file.read()\n",
    "    lines = content.splitlines()\n",
    "    \n",
    "def data_structure(data):\n",
    "    result = {}\n",
    "    \n",
    "    for item in data:\n",
    "        bags_and_contents_regex = r'^(\\w+ \\w+) bags contain (.*)'\n",
    "        bags_and_contents = re.search(bags_and_contents_regex, item)\n",
    "        bag_type = bags_and_contents[1]\n",
    "        \n",
    "        contents_string = bags_and_contents[2][:-1]\n",
    "        contents_regex = r'^([0-9 ] )*(\\w+ \\w+) bag'\n",
    "        content_tuples = re.findall(contents_regex, contents_string)\n",
    "        \n",
    "        bag_contents = []\n",
    "        for content in content_tuples:\n",
    "            if content[1] != 'no other':\n",
    "                bag_contents.append({\n",
    "                    'count': int(content[0]),\n",
    "                    'type': content[1]\n",
    "                })\n",
    "        result[bag_type] = bag_contents\n",
    "    return result\n",
    "\n",
    "#This function is to checks the content of the bag, and see if there's a shiny gold bag inside\n",
    "def shiny_gold_count(bag_collection, bag_name):\n",
    "    count = 0\n",
    "    bag = bag_collection[bag_name]\n",
    "    \n",
    "    if len(bag) == 0:\n",
    "        return count\n",
    "    else:\n",
    "        for sub_bag in bag:\n",
    "            if sub_bag['type'] == 'shiny gold':\n",
    "                count += 1\n",
    "            count += shiny_gold_count(bag_collection, sub_bag['type'])\n",
    "    return count\n",
    "\n",
    "def containing_one_shiny_gold(bag_collection):\n",
    "    count = 0\n",
    "    sum_total = 0\n",
    "    \n",
    "    for bag_name in bag_collection.keys():\n",
    "        if shiny_gold_count(bag_collection, bag_name) > 0:\n",
    "            \n",
    "            num = bag_collection[bag_name][0]['count']\n",
    "            sum_total += num\n",
    "            print(sum_total)\n",
    "            count += 1\n",
    "    return count\n",
    "\n",
    "structure = data_structure(lines)\n",
    "\n",
    "print(containing_one_shiny_gold(structure))"
   ]
  },
  {
   "cell_type": "code",
   "execution_count": 45,
   "metadata": {
    "scrolled": true
   },
   "outputs": [
    {
     "name": "stdout",
     "output_type": "stream",
     "text": [
      "[{'count': 5, 'type': 'striped teal'}]\n"
     ]
    }
   ],
   "source": [
    "import re\n",
    "\n",
    "with open('day7-list.txt', 'r') as file:\n",
    "    content = file.read()\n",
    "    lines = content.splitlines()\n",
    "    \n",
    "def data_structure(data):\n",
    "    result = {}\n",
    "    \n",
    "    for item in data:\n",
    "        bags_and_contents_regex = r'^(\\w+ \\w+) bags contain (.*)'\n",
    "        bags_and_contents = re.search(bags_and_contents_regex, item)\n",
    "        bag_type = bags_and_contents[1]\n",
    "        \n",
    "        contents_string = bags_and_contents[2][:-1]\n",
    "        contents_regex = r'^([0-9 ] )*(\\w+ \\w+) bag'\n",
    "        content_tuples = re.findall(contents_regex, contents_string)\n",
    "        \n",
    "        bag_contents = []\n",
    "        for content in content_tuples:\n",
    "            if content[1] != 'no other':\n",
    "                bag_contents.append({\n",
    "                    'count': int(content[0]),\n",
    "                    'type': content[1]\n",
    "                })\n",
    "        result[bag_type] = bag_contents\n",
    "    return result\n",
    "\n",
    "print(data_structure(lines)['plaid lavender'])"
   ]
  },
  {
   "cell_type": "code",
   "execution_count": null,
   "metadata": {},
   "outputs": [],
   "source": []
  }
 ],
 "metadata": {
  "kernelspec": {
   "display_name": "Python 3",
   "language": "python",
   "name": "python3"
  },
  "language_info": {
   "codemirror_mode": {
    "name": "ipython",
    "version": 3
   },
   "file_extension": ".py",
   "mimetype": "text/x-python",
   "name": "python",
   "nbconvert_exporter": "python",
   "pygments_lexer": "ipython3",
   "version": "3.8.5"
  }
 },
 "nbformat": 4,
 "nbformat_minor": 4
}

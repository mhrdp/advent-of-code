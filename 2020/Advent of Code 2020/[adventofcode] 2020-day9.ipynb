{
 "cells": [
  {
   "cell_type": "code",
   "execution_count": 52,
   "metadata": {},
   "outputs": [
    {
     "name": "stdout",
     "output_type": "stream",
     "text": [
      "The Valid number for Part 1 is 18272118\n",
      "2186361\n",
      "36544236\n",
      "None\n"
     ]
    }
   ],
   "source": [
    "import numpy as np #for part 2\n",
    "\n",
    "with open('day9-list.txt', 'r') as file:\n",
    "    content = file.read()\n",
    "    content = content.split()\n",
    "    content = [int(item) for item in content]\n",
    "\n",
    "#Part 1\n",
    "def count_the_number(item, preamble=25):\n",
    "    data_length = len(item)\n",
    "    start = 0\n",
    "    end = start + preamble\n",
    "    current = preamble\n",
    "    \n",
    "    #len(data) - 1 basically the last index in the list\n",
    "    while current < data_length - 1:\n",
    "        lines = item[start:end]\n",
    "        if current > len(lines) - 1:\n",
    "            start += 1\n",
    "            end += 1\n",
    "            valid = False\n",
    "            \n",
    "            for i in lines[:-1]:\n",
    "                for j in lines[1:]:\n",
    "                    if i+j == item[current]:\n",
    "                        valid = True\n",
    "                        break\n",
    "                    else:\n",
    "                        valid == False\n",
    "                if valid:\n",
    "                    break\n",
    "            if valid == False:\n",
    "                return item[current]\n",
    "        current += 1\n",
    "\n",
    "def count_the_number_2(item, invalid_num):\n",
    "    contigous_list = []\n",
    "    for i in range(0, len(item)-1):\n",
    "        for j in range(1, len(item)-1):\n",
    "            lines = np.array(item[i:j])\n",
    "            if np.sum(lines) == invalid_num:\n",
    "                #print(lines, lines.min() + lines.max())\n",
    "                print(lines.min() + lines.max())\n",
    "                \n",
    "#Part 1 Answer\n",
    "valid_number = count_the_number(content)\n",
    "print(f'The Valid number for Part 1 is {valid_number}')\n",
    "\n",
    "#Part 2 Answer\n",
    "print(count_the_number_2(content, count_the_number(content)))"
   ]
  },
  {
   "cell_type": "code",
   "execution_count": 40,
   "metadata": {},
   "outputs": [
    {
     "ename": "IndexError",
     "evalue": "string index out of range",
     "output_type": "error",
     "traceback": [
      "\u001b[1;31m---------------------------------------------------------------------------\u001b[0m",
      "\u001b[1;31mIndexError\u001b[0m                                Traceback (most recent call last)",
      "\u001b[1;32m<ipython-input-40-8459c2005131>\u001b[0m in \u001b[0;36m<module>\u001b[1;34m\u001b[0m\n\u001b[0;32m      5\u001b[0m \u001b[1;32mwhile\u001b[0m \u001b[0mnum\u001b[0m \u001b[1;33m<\u001b[0m \u001b[0mb\u001b[0m\u001b[1;33m:\u001b[0m\u001b[1;33m\u001b[0m\u001b[1;33m\u001b[0m\u001b[0m\n\u001b[0;32m      6\u001b[0m     \u001b[0mnum\u001b[0m \u001b[1;33m+=\u001b[0m \u001b[1;36m1\u001b[0m\u001b[1;33m\u001b[0m\u001b[1;33m\u001b[0m\u001b[0m\n\u001b[1;32m----> 7\u001b[1;33m     \u001b[0mprint\u001b[0m\u001b[1;33m(\u001b[0m\u001b[0ma\u001b[0m\u001b[1;33m[\u001b[0m\u001b[0mb\u001b[0m\u001b[1;33m]\u001b[0m\u001b[1;33m)\u001b[0m\u001b[1;33m\u001b[0m\u001b[1;33m\u001b[0m\u001b[0m\n\u001b[0m",
      "\u001b[1;31mIndexError\u001b[0m: string index out of range"
     ]
    }
   ],
   "source": [
    "a = 'hello'\n",
    "b = len(a)\n",
    "num = 0\n",
    "\n",
    "while num < b:\n",
    "    num += 1\n",
    "    print(a[b])"
   ]
  }
 ],
 "metadata": {
  "kernelspec": {
   "display_name": "Python 3",
   "language": "python",
   "name": "python3"
  },
  "language_info": {
   "codemirror_mode": {
    "name": "ipython",
    "version": 3
   },
   "file_extension": ".py",
   "mimetype": "text/x-python",
   "name": "python",
   "nbconvert_exporter": "python",
   "pygments_lexer": "ipython3",
   "version": "3.8.5"
  }
 },
 "nbformat": 4,
 "nbformat_minor": 4
}

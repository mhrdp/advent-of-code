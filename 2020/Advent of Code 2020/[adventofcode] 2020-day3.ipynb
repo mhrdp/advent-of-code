{
 "cells": [
  {
   "cell_type": "code",
   "execution_count": 23,
   "metadata": {},
   "outputs": [
    {
     "name": "stdout",
     "output_type": "stream",
     "text": [
      "Solution for challange #1:  203\n",
      "Solution for challange #2:  3316272960\n"
     ]
    }
   ],
   "source": [
    "#Import the data\n",
    "with open('day3-list.txt', 'r') as file:\n",
    "    list_a = []\n",
    "    for items in file:\n",
    "        num = 0\n",
    "        while num < 1:\n",
    "            list_a.append(items.strip('\\n'))\n",
    "            num += 1\n",
    "lengthItem = int(len(list_a[0]))\n",
    "#lengthItem = 31\n",
    "\n",
    "#Challange #1\n",
    "#This function is to check the trees in each index inside the list\n",
    "#list_a[y][map_x] equal to list_a[number-of-list][number-of-item-inside-the-list]\n",
    "def coordinate(x, y):\n",
    "    map_x = x % lengthItem\n",
    "    return list_a[y][map_x] == '#'\n",
    "\n",
    "def treeCount(right, down):\n",
    "    down_ = 0\n",
    "    right_ = 0\n",
    "    tree = 0  \n",
    "    while down_ < len(list_a):\n",
    "        if coordinate(right_, down_):\n",
    "            tree += 1\n",
    "        right_ += right\n",
    "        down_ += down\n",
    "    return tree\n",
    "\n",
    "print('Solution for challange #1: ', treeCount(3, 1))\n",
    "\n",
    "#Challange #2\n",
    "coord1 = treeCount(1, 1)\n",
    "coord2 = treeCount(3, 1)\n",
    "coord3 = treeCount(5, 1)\n",
    "coord4 = treeCount(7, 1)\n",
    "coord5 = treeCount(1, 2)\n",
    "\n",
    "print('Solution for challange #2: ', coord1 * coord2 * coord3 * coord4 * coord5)"
   ]
  },
  {
   "cell_type": "markdown",
   "metadata": {},
   "source": [
    "<b><span style=\"color: red\">Explanation about the Equations:</span></b><br />\n",
    "Sources: https://www.globalnerdy.com/2020/12/05/my-solution-to-advent-of-code-2020s-day-3-challenge-in-python/<br />\n",
    "First let's think about what coordinate meant here.<br />\n",
    "<ul>\n",
    "    <li>'Y' -> basically refering to a list inside the parent list</li>\n",
    "    <li>'X' -> basically refering to an item inside 'Y' list</li>\n",
    "    <li>That means when <code>list_a[y][x]</code> was written, it means list number <code>y</code> inside <code>list_a</code> nested list, with the item number <code>x</code></li>\n",
    "</ul>\n",
    "NB: There's an additional <code>== '#'</code> at the end of <code>coordinate</code> function above, that basically mean to only return True when there's '#' on a given <code>coordinate</code>.<br /><br />\n",
    "\n",
    "Second, lets's try to understand what role does <code>%</code> play at <code>coordinate</code> function above. <code>coordinate</code> function was a function to look for a tree on a given coordinates.\n",
    "<ul>\n",
    "    <li><code>%</code> is a <b>modulo operator</b> in python. It returns the remainder of dividing the left hand operand by right hand operand. It's used to get the remainder of a division problem.</li>\n",
    "    <li>So, we have 31 items (30 index number, since index number started from 0) inside each 'Y' list.</li>\n",
    "    <li>Which mean item at index number 31 was the same as item at index number 0, index 32 = index 1, index 33 = index 2, etc</li>\n",
    "    <li>The explanation was, <span style=\"color: red\">which I don't understand</span>, that for any 'X' in its corresponding hill, the actual 'X' in the map can be defined by: <code>X_Map = X_Hill % 31</code> (number of item inside child list)</li>\n",
    "    <li><b>Note:</b> After some testing, modulo operator will return the given numbers had those numbers were smaller than the number to which those numbers divided. For example, <code>1 % 31</code> will return <code>1</code>; <code>30 % 31</code> will return <code>30</code>; <code>31 % 31</code> will return <code>0</code>; <code>40 % 31</code> will return <code>9</code>. These are align with what we wanted above.</li>\n",
    "</ul><br />\n",
    "\n",
    "Third, wrote the <code>countTree</code> function to count the trees as the program went down through the data. This function will take coordinates as a input, and then count the trees based on those coordinates.\n",
    "<ul>\n",
    "    <li><code>right</code>, and/or <code>right_</code> refer to the <b> number of sequence of items inside</b> the child list inside <code>list_a</code> list.</li>\n",
    "    <li><code>down</code>, and/or <code>down_</code> refer to <b>the number of child lists</b> inside <code>list_a</code> list</li>\n",
    "    "
   ]
  },
  {
   "cell_type": "code",
   "execution_count": 37,
   "metadata": {},
   "outputs": [
    {
     "name": "stdout",
     "output_type": "stream",
     "text": [
      "73\n"
     ]
    }
   ],
   "source": [
    "#ABORTED SOLUTION\n",
    "with open('day3-list.txt', 'r') as file:\n",
    "    list_a = []\n",
    "    for items in file:\n",
    "        num = 0\n",
    "        while num < 1:\n",
    "            list_a.append(items.strip('\\n'))\n",
    "            num += 1\n",
    "length = int(len(list_a[0]))\n",
    "\n",
    "currentX = 0\n",
    "slopeX = 0\n",
    "slopeY = 0\n",
    "tree = 0\n",
    "\n",
    "for currentY, eachLine in enumerate(list_a):\n",
    "    if eachLine[currentX] == '#':\n",
    "        tree += 1\n",
    "    currentX = (currentX + slopeX) % len(eachLine[:-1])\n",
    "print(tree)"
   ]
  },
  {
   "cell_type": "code",
   "execution_count": 7,
   "metadata": {},
   "outputs": [
    {
     "name": "stdout",
     "output_type": "stream",
     "text": [
      "9\n"
     ]
    }
   ],
   "source": [
    "mod = 40 % 31\n",
    "print(mod)"
   ]
  },
  {
   "cell_type": "code",
   "execution_count": null,
   "metadata": {},
   "outputs": [],
   "source": []
  }
 ],
 "metadata": {
  "kernelspec": {
   "display_name": "Python 3",
   "language": "python",
   "name": "python3"
  },
  "language_info": {
   "codemirror_mode": {
    "name": "ipython",
    "version": 3
   },
   "file_extension": ".py",
   "mimetype": "text/x-python",
   "name": "python",
   "nbconvert_exporter": "python",
   "pygments_lexer": "ipython3",
   "version": "3.8.5"
  }
 },
 "nbformat": 4,
 "nbformat_minor": 4
}

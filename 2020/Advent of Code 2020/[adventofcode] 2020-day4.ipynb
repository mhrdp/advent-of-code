{
 "cells": [
  {
   "cell_type": "code",
   "execution_count": 41,
   "metadata": {
    "scrolled": false
   },
   "outputs": [
    {
     "name": "stdout",
     "output_type": "stream",
     "text": [
      "Solution for day 4 first part:  196\n",
      "Actual length of the data:  259\n",
      "Solution for day 4 second part: 132\n"
     ]
    }
   ],
   "source": [
    "with open('day4-list.txt', 'r') as file:\n",
    "    content = file.read()\n",
    "    lines = content.split('\\n\\n')\n",
    "    list_a = [line.replace('\\n', ' ') for line in lines]\n",
    "\n",
    "listClean = [string.split() for string in list_a]\n",
    "\n",
    "def cleanUp(array):\n",
    "    #this function is to create a dictionary out of cleaned list_a\n",
    "    dict_ = {}\n",
    "    \n",
    "    for items in array:\n",
    "        splitItems = items.split(':')\n",
    "        key = splitItems[0]\n",
    "        value = splitItems[1]\n",
    "        dict_[key] = value\n",
    "    return dict_\n",
    "\n",
    "passport = [cleanUp(x) for x in listClean]\n",
    "\n",
    "def validPassport(table):\n",
    "    #This function was to verify whether all of the variables below exist inside object 'table'\n",
    "    hasEcl = 'ecl' in table\n",
    "    hasHcl = 'hcl' in table\n",
    "    hasIyr = 'iyr' in table\n",
    "    hasPid = 'pid' in table\n",
    "    hasHgt = 'hgt' in table\n",
    "    hasEyr = 'eyr' in table\n",
    "    hasByr = 'byr' in table\n",
    "    \n",
    "    return(\n",
    "    hasEcl and hasHcl and\n",
    "    hasIyr and hasPid and\n",
    "    hasHgt and hasEyr and\n",
    "    hasByr)\n",
    "\n",
    "#This is to intialize the function, will return True if meet all of the conditions\n",
    "isValid = [item for item in passport if validPassport(item)]\n",
    "\n",
    "#This is to count how many items that were true\n",
    "print('Solution for day 4 first part: ', len(isValid))\n",
    "print('Actual length of the data: ', len(passport))\n",
    "\n",
    "#Second part\n",
    "def validCondition(table):\n",
    "    validByr = 1920 <= int(table['byr']) <= 2002\n",
    "    validIyr = 2010 <= int(table['iyr']) <= 2020\n",
    "    validEyr = 2020 <= int(table['eyr']) <= 2030\n",
    "    \n",
    "    #If I were to use this set of functions, the result will significantly increases\n",
    "    #So probably something wrong with the functions.\n",
    "    #if len(table['byr']) and len(table['iyr']) and len(table['eyr']) == 4:\n",
    "    #    validByr = 1920 <= int(table['byr']) <= 2002\n",
    "    #    validIyr = 2010 <= int(table['iyr']) <= 2020\n",
    "    #    validEyr = 2020 <= int(table['eyr']) <= 2030\n",
    "    #    return(validByr and validIyr and validEyr)\n",
    "    \n",
    "    validHgt = False\n",
    "    metrics = table['hgt'][-2:]\n",
    "    hgt = table['hgt'][:-2]\n",
    "    if metrics == 'cm':\n",
    "        validHgt = 150 <= int(hgt) <= 193\n",
    "    elif metrics == 'in':\n",
    "        validHgt = 59 <= int(hgt) <= 76\n",
    "        \n",
    "    def hexColor(clr):\n",
    "        lowerStr = clr.lower()\n",
    "        isValid = True\n",
    "        \n",
    "        for char in clr:\n",
    "            if char not in '0123456789abcdef':\n",
    "                isValid = False\n",
    "                break\n",
    "        return isValid\n",
    "    \n",
    "    validHairColor = False\n",
    "    if len(table['hcl']) == 7:\n",
    "        digit = table['hcl'][1:]\n",
    "        validHairColor = hexColor(digit)\n",
    "    \n",
    "    validEyeColor = table['ecl'] in ['amb', 'blu', 'brn', 'gry', 'grn', 'hzl', 'oth']\n",
    "    \n",
    "    def validPassportId(pid):\n",
    "        #The returned value will be different if passValid's value set to True for some reason\n",
    "        passValid = False\n",
    "        \n",
    "        if len(pid) == 9:\n",
    "            passValid = True\n",
    "            for char in pid:\n",
    "                if char not in '0123456789':\n",
    "                    passValid = False\n",
    "                    break\n",
    "        return passValid\n",
    "    \n",
    "    validPass = validPassportId(table['pid'])\n",
    "    \n",
    "    return(\n",
    "    validByr and validIyr and\n",
    "    validEyr and validHgt and\n",
    "    validHairColor and validEyeColor and\n",
    "    validPass)\n",
    "\n",
    "realValidPassport = [item for item in isValid if validCondition(item)]\n",
    "print('Solution for day 4 second part: %d' % len(realValidPassport))\n",
    "        "
   ]
  },
  {
   "cell_type": "code",
   "execution_count": null,
   "metadata": {},
   "outputs": [],
   "source": [
    "with open('day4-list.txt', 'r') as file:\n",
    "    content = file.read()\n",
    "    lines = content.split('\\n\\n')\n",
    "    list_a = [line.replace('\\n', ' ') for line in lines]\n",
    "\n",
    "listClean = [string.split() for string in list_a]\n",
    "print(listClean)\n",
    "\n",
    "#listClean variable was to split list_a's items, empty value will split it based on comma (,)"
   ]
  },
  {
   "cell_type": "code",
   "execution_count": null,
   "metadata": {},
   "outputs": [],
   "source": [
    "#This is how double newline (\\n\\n)'s split works\n",
    "with open('day4-list.txt', 'r') as file:\n",
    "    content = file.read()\n",
    "    lines = content.split('\\n\\n') #With Double newline split\n",
    "    list_a = [line.replace('\\n', ' ') for line in lines]\n",
    "print(list_a)\n",
    "\n",
    "#Double newline seems to be double 'Enter', so split by double newline mean split the data by double 'Enter'\n",
    "#While line.replace() basically mean replacing any single newline with specified string."
   ]
  },
  {
   "cell_type": "code",
   "execution_count": null,
   "metadata": {},
   "outputs": [],
   "source": [
    "with open('day4-list.txt', 'r') as file:\n",
    "    content = file.read()\n",
    "    lines = content.split('\\n') #Without double newline split\n",
    "    list_a = [line.replace('\\n', ' ') for line in lines]\n",
    "print(list_a)"
   ]
  },
  {
   "cell_type": "code",
   "execution_count": 25,
   "metadata": {},
   "outputs": [
    {
     "name": "stdout",
     "output_type": "stream",
     "text": [
      "True\n"
     ]
    }
   ],
   "source": [
    "string = 3 <= 4 <= 10\n",
    "print(string)"
   ]
  },
  {
   "cell_type": "code",
   "execution_count": 93,
   "metadata": {},
   "outputs": [
    {
     "name": "stdout",
     "output_type": "stream",
     "text": [
      "Solution part 1: 195\n"
     ]
    }
   ],
   "source": [
    "inputfile = open('day4-list.txt', 'r')\n",
    "\n",
    "# Parse lines\n",
    "data = [x.strip() for x in inputfile.readlines()]\n",
    "\n",
    "def part1(data):\n",
    "    valid_passport_count = 0\n",
    "    required_fields = ['byr' ,'iyr' ,'eyr' ,'hgt' ,'hcl' ,'ecl' ,'pid']\n",
    "\n",
    "    # Variable to track number of required fields for current passport\n",
    "    current = 0\n",
    "    for line in data:\n",
    "        if line == '':                              # Empty line indicates new passport\n",
    "            if current == len(required_fields):\n",
    "                valid_passport_count += 1\n",
    "            current = 0\n",
    "            continue\n",
    "\n",
    "        for field in line.split():\n",
    "            key, val = field.split(':')\n",
    "            if key in required_fields:\n",
    "                current += 1\n",
    "\n",
    "    return valid_passport_count\n",
    "\n",
    "print(\"Solution part 1: %d\" % part1(data))"
   ]
  },
  {
   "cell_type": "code",
   "execution_count": 107,
   "metadata": {},
   "outputs": [
    {
     "ename": "NameError",
     "evalue": "name 'req_keys' is not defined",
     "output_type": "error",
     "traceback": [
      "\u001b[1;31m---------------------------------------------------------------------------\u001b[0m",
      "\u001b[1;31mNameError\u001b[0m                                 Traceback (most recent call last)",
      "\u001b[1;32m<ipython-input-107-bc090ec4ba16>\u001b[0m in \u001b[0;36m<module>\u001b[1;34m\u001b[0m\n\u001b[0;32m     17\u001b[0m \u001b[1;33m\u001b[0m\u001b[0m\n\u001b[0;32m     18\u001b[0m     \u001b[1;32melse\u001b[0m\u001b[1;33m:\u001b[0m\u001b[1;33m\u001b[0m\u001b[1;33m\u001b[0m\u001b[0m\n\u001b[1;32m---> 19\u001b[1;33m         \u001b[1;32mif\u001b[0m \u001b[0mall\u001b[0m\u001b[1;33m(\u001b[0m\u001b[0mfield\u001b[0m \u001b[1;32min\u001b[0m \u001b[0mcurr_passport\u001b[0m \u001b[1;32mfor\u001b[0m \u001b[0mfield\u001b[0m \u001b[1;32min\u001b[0m \u001b[0mreq_keys\u001b[0m\u001b[1;33m)\u001b[0m\u001b[1;33m:\u001b[0m\u001b[1;33m\u001b[0m\u001b[1;33m\u001b[0m\u001b[0m\n\u001b[0m\u001b[0;32m     20\u001b[0m             \u001b[0mvalid_passports\u001b[0m\u001b[1;33m.\u001b[0m\u001b[0mappend\u001b[0m\u001b[1;33m(\u001b[0m\u001b[0mcurr_passport\u001b[0m\u001b[1;33m)\u001b[0m\u001b[1;33m\u001b[0m\u001b[1;33m\u001b[0m\u001b[0m\n\u001b[0;32m     21\u001b[0m         \u001b[0mcurr_passport\u001b[0m \u001b[1;33m=\u001b[0m \u001b[1;33m{\u001b[0m\u001b[1;33m}\u001b[0m\u001b[1;33m\u001b[0m\u001b[1;33m\u001b[0m\u001b[0m\n",
      "\u001b[1;31mNameError\u001b[0m: name 'req_keys' is not defined"
     ]
    }
   ],
   "source": [
    "with open(\"day4-list.txt\") as fp:\n",
    "    lines = [f.strip() for f in fp]\n",
    "\n",
    "#1\n",
    "curr_passport = {}\n",
    "all_passports = []\n",
    "valid_passports = []\n",
    "all_keys = [\"byr\", \"iyr\", \"eyr\", \"hgt\", \"hcl\", \"ecl\", \"pid\", \"cid\"]\n",
    "key_count = 0\n",
    "for line in lines:\n",
    "    if line != \"\":\n",
    "        temp_line = line.split(\" \")\n",
    "        temp_dict = {item.split(\":\")[0]:item.split(\":\")[1] for item in temp_line}\n",
    "\n",
    "        for key, value in temp_dict.items():\n",
    "            curr_passport[key] = value\n",
    "\n",
    "    else:\n",
    "        if all(field in curr_passport for field in req_keys):\n",
    "            valid_passports.append(curr_passport)\n",
    "        curr_passport = {}\n",
    "        all_passports.append(curr_passport)\n",
    "all_passports.append(curr_passport)\n",
    "\n",
    "len(all_passports), len(valid_passports)"
   ]
  },
  {
   "cell_type": "code",
   "execution_count": null,
   "metadata": {},
   "outputs": [],
   "source": []
  }
 ],
 "metadata": {
  "kernelspec": {
   "display_name": "Python 3",
   "language": "python",
   "name": "python3"
  },
  "language_info": {
   "codemirror_mode": {
    "name": "ipython",
    "version": 3
   },
   "file_extension": ".py",
   "mimetype": "text/x-python",
   "name": "python",
   "nbconvert_exporter": "python",
   "pygments_lexer": "ipython3",
   "version": "3.8.5"
  }
 },
 "nbformat": 4,
 "nbformat_minor": 4
}
